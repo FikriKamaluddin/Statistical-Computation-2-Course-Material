{
 "cells": [
  {
   "attachments": {},
   "cell_type": "markdown",
   "metadata": {},
   "source": [
    "# Matrix"
   ]
  },
  {
   "cell_type": "markdown",
   "metadata": {},
   "source": [
    "Matrix pada python merupakan sebuah 2 dimensional array yang menyimpan data pada `$Row$ dan $Column$`. Data didalam matrix dapat bertipe numbers, strings, expressions, symbols, etc."
   ]
  },
  {
   "cell_type": "code",
   "execution_count": 3,
   "metadata": {},
   "outputs": [
    {
     "name": "stdout",
     "output_type": "stream",
     "text": [
      "[[2, 3], [4, 6]]\n"
     ]
    }
   ],
   "source": [
    "#Membuat Matrix dengan metode Nested List\n",
    "matrix = [[2,3], [4,6]]\n",
    "\n",
    "print(matrix)"
   ]
  },
  {
   "cell_type": "markdown",
   "metadata": {},
   "source": [
    "> Pada code diatas memperlihatkan matrix tersebut memiliki 2 Rows dan 2 column\n",
    "> Data didalam matrix tersebut merupakan $Number$\n",
    "> Kolom pertama memiliki value `2,4` dan Kolom kedua memiliki value `3,6`"
   ]
  },
  {
   "cell_type": "markdown",
   "metadata": {},
   "source": [
    "## Nested List"
   ]
  },
  {
   "cell_type": "markdown",
   "metadata": {},
   "source": [
    "Dalam Python arrays direpresentasikan dengan menggunakan `list` data type <br><br>\n",
    "Dan Nested list atau list didalam list, dapat digunakan untuk membuat matrix"
   ]
  },
  {
   "cell_type": "code",
   "execution_count": 36,
   "metadata": {},
   "outputs": [
    {
     "name": "stdout",
     "output_type": "stream",
     "text": [
      "mat1\n",
      "[[2, 3], [4, 6]]\n",
      "\n",
      "mat2\n",
      "[[4.3, 2.3, 20.3, 234], [1.3, 7.5, 10.3, 124], [9.0, 12.3, 4.8, 0.2], [7.9, 3.7, 5.8, 234], [8.7, 0.5, 3.4, 788]]\n",
      "\n",
      "mat3\n",
      "[[4, 8, 9], [8, 0, 9]]\n",
      "\n",
      "mat4\n",
      "[[0, 1, 2, 3, 4], [0, 1, 2, 3, 4], [0, 1, 2, 3, 4], [0, 1, 2, 3, 4], [0, 1, 2, 3, 4]]\n"
     ]
    }
   ],
   "source": [
    "#Matrix 2 x 2\n",
    "mat1 = [[2, 3], [4, 6]]\n",
    "\n",
    "#Matrix 4x5\n",
    "mat2 = [[4.3, 2.3, 20.3,234], \n",
    "        [1.3, 7.5, 10.3,124],\n",
    "        [9.0, 12.3, 4.8,0.2],\n",
    "        [7.9, 3.7, 5.8,234],\n",
    "        [8.7, 0.5, 3.4,788]]\n",
    "\n",
    "#Callback Multiple list\n",
    "first_row = [4, 8, 9]\n",
    "second_row = [8, 0, 9]\n",
    "mat3 = [first_row, second_row]\n",
    "\n",
    "#Loop Matrix\n",
    "mat4 = []\n",
    "for i in range(5):\n",
    "    mat4.append([])  \n",
    "    for j in range(5):\n",
    "        mat4[i].append(j)\n",
    "\n",
    "print(f\"mat1\\n{mat1}\\n\\nmat2\\n{mat2}\\n\\nmat3\\n{mat3}\\n\\nmat4\\n{mat4}\")"
   ]
  },
  {
   "cell_type": "markdown",
   "metadata": {},
   "source": [
    "Untuk Membaca matrix dalam bentuk Nested List kita dapat membacanya seperti kita memanggil list"
   ]
  },
  {
   "cell_type": "code",
   "execution_count": 35,
   "metadata": {},
   "outputs": [
    {
     "name": "stdout",
     "output_type": "stream",
     "text": [
      "Membaca spesifik Baris\n",
      "[4, 8, 9]\n",
      "\n",
      "Membaca spesifik value\n",
      "8\n",
      "\n",
      "Membaca spesifik Kolom\n",
      "[8, 0]\n"
     ]
    }
   ],
   "source": [
    "#Membaca spesifik baris\n",
    "print(\"Membaca spesifik Baris\")\n",
    "print(f\"{mat3[0]}\\n\")\n",
    "\n",
    "#Membaca spesifik value\n",
    "print(\"Membaca spesifik value\")\n",
    "print(f\"{mat3[0][1]}\\n\")\n",
    "\n",
    "#Membaca spesifik kolom\n",
    "print(\"Membaca spesifik Kolom\")\n",
    "print([row[1] for row in mat3])"
   ]
  },
  {
   "cell_type": "markdown",
   "metadata": {},
   "source": [
    "### Matrix Comprehension"
   ]
  },
  {
   "cell_type": "markdown",
   "metadata": {},
   "source": [
    "List Comprehension merupakan sebuah feature pada python yang sangat membantu dalam membuat sebuah list dengan iterasi sebuah object. Nested list comprehension tidak jauh beda dengan List comprehension, dimana sifat logikanya sama seperti nested untuk loops"
   ]
  },
  {
   "cell_type": "markdown",
   "metadata": {},
   "source": [
    "Dalam Pembuatan Nested Loop Matrix dapat dilihat Code yang dipakai <br>\n",
    "```\n",
    "{\n",
    "mat4 = []\n",
    "for i in range(5):\n",
    "    mat4.append([])  \n",
    "    for j in range(5):\n",
    "        mat4[i].append(j)\n",
    "}\n",
    "```\n",
    "\n",
    "dan dengan memakai Nested List Comprehension dapat dibuat Seperti ini\n",
    "```\n",
    "{\n",
    "mat4 = [[j for j in range(5)] for i in range(5)]\n",
    "}\n",
    "```\n",
    "dan keduanya akan menghasilkan output yang sama, yaitu\n",
    "```\n",
    "[[0, 1, 2, 3, 4], [0, 1, 2, 3, 4], [0, 1, 2, 3, 4], [0, 1, 2, 3, 4], [0, 1, 2, 3, 4]]\n",
    "```"
   ]
  },
  {
   "cell_type": "markdown",
   "metadata": {},
   "source": [
    "### Operasi pada Nested List Matrix"
   ]
  },
  {
   "cell_type": "code",
   "execution_count": 38,
   "metadata": {},
   "outputs": [],
   "source": [
    "X = [[12,7,3],\n",
    "    [4 ,5,6],\n",
    "    [7 ,8,9]]\n",
    "\n",
    "Y = [[5,8,1],\n",
    "    [6,7,3],\n",
    "    [4,5,9]]"
   ]
  },
  {
   "cell_type": "code",
   "execution_count": 42,
   "metadata": {},
   "outputs": [
    {
     "name": "stdout",
     "output_type": "stream",
     "text": [
      "Penjumlahan\n",
      "[[17, 15, 4], [10, 12, 9], [11, 13, 18]]\n"
     ]
    }
   ],
   "source": [
    "# Penjumlahan\n",
    "penjumlahan = [[X[i][j] + Y[i][j]  for j in range(len(X[0]))] for i in range(len(X))]\n",
    "print(f'Penjumlahan\\n{penjumlahan}')"
   ]
  },
  {
   "cell_type": "code",
   "execution_count": 45,
   "metadata": {},
   "outputs": [
    {
     "name": "stdout",
     "output_type": "stream",
     "text": [
      "Perkalian\n",
      "[[114, 160, 60], [74, 97, 73], [119, 157, 112]]\n"
     ]
    }
   ],
   "source": [
    "# Perkalian\n",
    "perkalian = [[sum(X*Y for X,Y in zip(X_row,Y_col)) for Y_col in zip(*Y)] for X_row in X]\n",
    "print(f'Perkalian\\n{perkalian}')"
   ]
  },
  {
   "cell_type": "code",
   "execution_count": 44,
   "metadata": {},
   "outputs": [
    {
     "name": "stdout",
     "output_type": "stream",
     "text": [
      "Before Transpose\n",
      "[[12, 7, 3], [4, 5, 6], [7, 8, 9]]\n",
      "After Transpose\n",
      "[[12, 4, 7], [7, 5, 8], [3, 6, 9]]\n"
     ]
    }
   ],
   "source": [
    "# Transpose\n",
    "transpose = [[X[j][i] for j in range(len(X))] for i in range(len(X[0]))]\n",
    "print(f'Before Transpose\\n{X}')\n",
    "print(f'After Transpose\\n{transpose}')"
   ]
  },
  {
   "cell_type": "markdown",
   "metadata": {},
   "source": [
    "## Module Numpy"
   ]
  },
  {
   "cell_type": "code",
   "execution_count": null,
   "metadata": {},
   "outputs": [],
   "source": [
    "#Install Module\n",
    "!pip install numpy"
   ]
  },
  {
   "cell_type": "code",
   "execution_count": 46,
   "metadata": {},
   "outputs": [],
   "source": [
    "import numpy as np"
   ]
  },
  {
   "cell_type": "code",
   "execution_count": 52,
   "metadata": {},
   "outputs": [
    {
     "name": "stdout",
     "output_type": "stream",
     "text": [
      "mat1\n",
      "[[2 3]\n",
      " [4 6]]\n",
      "\n",
      "mat2\n",
      "[[4.30e+00 2.30e+00 2.03e+01 2.34e+02]\n",
      " [1.30e+00 7.50e+00 1.03e+01 1.24e+02]\n",
      " [9.00e+00 1.23e+01 4.80e+00 2.00e-01]\n",
      " [7.90e+00 3.70e+00 5.80e+00 2.34e+02]\n",
      " [8.70e+00 5.00e-01 3.40e+00 7.88e+02]]\n",
      "\n",
      "mat3\n",
      "[[4 8 9]\n",
      " [8 0 9]]\n",
      "\n",
      "mat4\n",
      "[[0 1 2 3 4]\n",
      " [0 1 2 3 4]\n",
      " [0 1 2 3 4]\n",
      " [0 1 2 3 4]\n",
      " [0 1 2 3 4]]\n"
     ]
    }
   ],
   "source": [
    "#Make the Matrix\n",
    "mat1 = np.array([[2, 3], [4, 6]])\n",
    "\n",
    "#Calling Existing Array\n",
    "mat2, mat3, mat4 = np.array(mat2), np.array(mat3), np.array(mat4)\n",
    "\n",
    "print(f\"mat1\\n{mat1}\\n\\nmat2\\n{mat2}\\n\\nmat3\\n{mat3}\\n\\nmat4\\n{mat4}\")\n"
   ]
  },
  {
   "cell_type": "markdown",
   "metadata": {},
   "source": [
    "### Read Matrix"
   ]
  },
  {
   "cell_type": "code",
   "execution_count": 57,
   "metadata": {},
   "outputs": [
    {
     "name": "stdout",
     "output_type": "stream",
     "text": [
      "Membaca spesifik Baris\n",
      "[4 8 9]\n",
      "\n",
      "Membaca spesifik value\n",
      "8\n",
      "\n",
      "Membaca spesifik Kolom\n",
      "[8 0]\n"
     ]
    }
   ],
   "source": [
    "#Membaca spesifik baris\n",
    "print(\"Membaca spesifik Baris\")\n",
    "print(f\"{mat3[0, :]}\\n\")\n",
    "\n",
    "#Membaca spesifik value\n",
    "print(\"Membaca spesifik value\")\n",
    "print(f\"{mat3[0][1]}\\n\")\n",
    "\n",
    "#Membaca spesifik kolom\n",
    "print(\"Membaca spesifik Kolom\")\n",
    "print(mat3[:, 1])"
   ]
  },
  {
   "cell_type": "markdown",
   "metadata": {},
   "source": [
    "### Operation"
   ]
  },
  {
   "cell_type": "code",
   "execution_count": 58,
   "metadata": {},
   "outputs": [],
   "source": [
    "X, Y = np.array(X), np.array(Y)"
   ]
  },
  {
   "cell_type": "code",
   "execution_count": 59,
   "metadata": {},
   "outputs": [
    {
     "name": "stdout",
     "output_type": "stream",
     "text": [
      "[[17 15  4]\n",
      " [10 12  9]\n",
      " [11 13 18]]\n"
     ]
    }
   ],
   "source": [
    "# Penjumlahan\n",
    "penjumlahan = X + Y\n",
    "print(penjumlahan)"
   ]
  },
  {
   "cell_type": "code",
   "execution_count": 60,
   "metadata": {},
   "outputs": [
    {
     "name": "stdout",
     "output_type": "stream",
     "text": [
      "[[60 56  3]\n",
      " [24 35 18]\n",
      " [28 40 81]]\n"
     ]
    }
   ],
   "source": [
    "# Perkalian\n",
    "perkalian = X * Y\n",
    "print(perkalian)"
   ]
  },
  {
   "cell_type": "code",
   "execution_count": 69,
   "metadata": {},
   "outputs": [
    {
     "name": "stdout",
     "output_type": "stream",
     "text": [
      "Before Transpose\n",
      "[[12  7  3]\n",
      " [ 4  5  6]\n",
      " [ 7  8  9]]\n",
      "After Transpose\n",
      "[[12  4  7]\n",
      " [ 7  5  8]\n",
      " [ 3  6  9]]\n"
     ]
    }
   ],
   "source": [
    "#Transpose\n",
    "transpose = np.transpose(X)\n",
    "print(f'Before Transpose\\n{X}')\n",
    "print(f'After Transpose\\n{transpose}')"
   ]
  }
 ],
 "metadata": {
  "kernelspec": {
   "display_name": "Python 3.9.9 64-bit",
   "language": "python",
   "name": "python3"
  },
  "language_info": {
   "codemirror_mode": {
    "name": "ipython",
    "version": 3
   },
   "file_extension": ".py",
   "mimetype": "text/x-python",
   "name": "python",
   "nbconvert_exporter": "python",
   "pygments_lexer": "ipython3",
   "version": "3.9.9"
  },
  "orig_nbformat": 4,
  "vscode": {
   "interpreter": {
    "hash": "a820877bb240290804912ab4e6c808c89634e69de391124838cf281dba6966bd"
   }
  }
 },
 "nbformat": 4,
 "nbformat_minor": 2
}
