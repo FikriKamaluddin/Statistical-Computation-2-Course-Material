{
 "cells": [
  {
   "attachments": {},
   "cell_type": "markdown",
   "metadata": {},
   "source": [
    "# QUIZ 1"
   ]
  },
  {
   "cell_type": "markdown",
   "metadata": {},
   "source": [
    "## 1 : Let's Play With Numpy"
   ]
  },
  {
   "attachments": {},
   "cell_type": "markdown",
   "metadata": {},
   "source": [
    "In statistics, Spearman's rank correlation coefficient or Spearman's ρ, <br/>\n",
    "named after Charles Spearman and often denoted by the Greek letter $\\rho$ (rho) or as $r_s$ is a nonparametric measure of rank correlation (statistical dependence between the rankings of two variables). <br/>\n",
    "It assesses how well the relationship between two variables can be described using a monotonic function. \n",
    "\n",
    "The Spearman correlation between two variables is equal to the Pearson correlation between the rank values of those two variables; <br/>\n",
    "while Pearson's correlation assesses linear relationships, <br/>\n",
    "Spearman's correlation assesses monotonic relationships (whether linear or not). <br/>\n",
    "If there are no repeated data values, a perfect Spearman correlation of +1 or −1 occurs when each of the variables is a perfect monotone function of the other.\n",
    "\n",
    "## Definition and calculation\n",
    "The Spearman correlation coefficient is defined as the Pearson correlation coefficient between the rank variables For a sample of size n, <br/>\n",
    "the n raw scores $X_i, Y_i$ are converted to ranks $R(X_i), R(Y_i)$ and and $r_s$ is computed as :\n",
    "\n",
    "$$r_s = \\rho_{R(X),R(Y)} = \\frac{cov(R(X),R(Y))}{\\sigma_{R(X)}\\sigma_{R(Y)}}$$\n",
    "\n",
    "Only if all n ranks are distinct integers, this test can be used to determine whether the population variable is one <br/>\n",
    "with the two independent variable populations or not. The formula for calculating value <br/>\n",
    "Spearman's correlation coefficient is as follows:\n",
    "\n",
    "$$\\rho = 1 - \\frac{6\\sum{d^2_{i}}}{n(n^2-1)}$$\n",
    "\n",
    "Where:\n",
    "* $\\rho$ : is the value of the Spearman correlation coefficient\n",
    "* $cov(R(X),R(Y))$ : is the covariance of the rank variables,\n",
    "* $\\sigma_{R(X)}$ and $\\sigma_{R(Y)}$ : are the standard deviations of the rank variables.\n",
    "* $d^2_{i}$ : is the difference between each rank pair\n",
    "* $n$ : is the number of rank pairs\n",
    "\n",
    "Next we calculate $Z_{hit}$ using formulas $Z_{hit} = \\rho\\sqrt{n-1}$ where value of $Z_{hit}$ will compared with $Z_{tab}$. <br/> The hypothesis test for this test is:\n",
    "\n",
    "$H_0$ : X and Y are independent <br/>\n",
    "$H_1$ : X and Y are dependent <br/>\n",
    "\n",
    "$H_0$ rejected if $Z_{hit} > Z_{tab}$ or $Z_{hit} < -Z_{tab}$ \n",
    "\n",
    "## Case Study \n",
    "Based on this, a study was conducted to find out whether the  SGOT levels (Karmen\n",
    "Units/100ml) <br/> with HDL Cholesterol (mg/100ml) in 7 samples taken <br/>\n",
    "random are mutually independent or not. <br/> Obtained the results of data collection as follows:\n",
    "<center>\n",
    "\n",
    "| SGOT (Karmen Units/100ml) |  HDL (mg/100ml) |\n",
    "|:----:|:----:|\n",
    "|  5.7 | 42.3 |\n",
    "| 11.3 | 41.2 |\n",
    "| 13.5 | 46.5 |\n",
    "| 15.1 | 42.8 |\n",
    "| 17.9 | 43.8 |\n",
    "| 19.3 | 43.6 |\n",
    "| 21   | 40   |\n",
    "\n",
    "</center>\n",
    "\n",
    "Do the test using the Spearman Rank test as described previously. <br/> Hint for calculations are given as follows:\n",
    "\n",
    "<center>\n",
    "\n",
    "|SGOT (Karmen Units/100ml) | Rank  | HDL (mg/100ml)  | Rank | $d_i$ |\n",
    "|:----:|:-----:|------|------|----|\n",
    "|  5.7 |   1   | 42.3 | 3    | -2 |\n",
    "| 11.3 |   2   | 41.2 | 2    | 0  |\n",
    "| 13.5 |   3   | 46.5 | 7    | -4 |\n",
    "| 15.1 |   4   | 42.8 | 4    | 0  |\n",
    "| 17.9 |   5   | 43.8 | 6    | -1 |\n",
    "| 19.3 | 6     | 43.6 | 5    | 1  |\n",
    "| 21   | 7     | 40   | 1    | 6  |\n",
    "\n",
    "</center>\n",
    "\n",
    "complete the syntax to solve this problem (in doing ranking and sorting will be made their own functions without using the built-in functions from Python). <br/>\n",
    "The expected output is as follows:\n",
    "\n",
    "-----------------------------------\n",
    "Ho : X and Y are independent <br/>\n",
    "H1 : X and Y are dependent <br/>\n",
    "\n",
    "<br/>\n",
    "Ho rejected if Zhit > Ztab or Zhit < -Ztab <br/>\n",
    "\n",
    "Zhit =  -0.08748177652797087 <br/>\n",
    "Ztab =  2.5758293035489004 <br/>\n",
    "\n",
    "<br/>\n",
    "Ho accepted <br/>\n",
    "Conclusion : X and Y are independen <br/>"
   ]
  },
  {
   "cell_type": "code",
   "execution_count": null,
   "metadata": {},
   "outputs": [],
   "source": [
    "# Don't edit this cell, just run it !\n",
    "import numpy as np\n",
    "import scipy.stats as st"
   ]
  },
  {
   "cell_type": "code",
   "execution_count": null,
   "metadata": {},
   "outputs": [],
   "source": [
    "# Graded Function: sort\n",
    "# Function sort data\n",
    "def sort(vec):\n",
    "    \"\"\"\n",
    "    This function Sort the vector in ascending order\n",
    "\n",
    "    Arguments:\n",
    "        vec: Vector to be sorted\n",
    "\n",
    "    Returns:\n",
    "        vecs: Sorted vector\n",
    "    \"\"\"\n",
    "\n",
    "    # Make a copy of the vector\n",
    "    vecs = pass\n",
    "\n",
    "    # Creates an object named temp that contains 0\n",
    "    temp = 0\n",
    "\n",
    "    # Specifies n ie the length of the vector whose elements will be sorted\n",
    "    pass\n",
    "\n",
    "    # # Create a loop for index i until n-1\n",
    "    pass\n",
    "\n",
    "        # Create a loop for index j until n-1-i\n",
    "        pass\n",
    "\n",
    "            # Compares whether the value in the i-th vector is greater than the j-th vector, if so, then the vector values ​​will be exchanged\n",
    "            pass\n",
    "\n",
    "                # Create a temp variable to temporarily hold the value of the j-th vector\n",
    "                temp = pass\n",
    "\n",
    "                # Replace the j-th vector value with the j+1th vector value\n",
    "                pass\n",
    "\n",
    "                # Replace the value of the j+1 th vector with the value of the temp variable\n",
    "                pass\n",
    "                \n",
    "    # Return the sorted vector\n",
    "    return vecs\n"
   ]
  },
  {
   "cell_type": "code",
   "execution_count": null,
   "metadata": {},
   "outputs": [],
   "source": [
    "# Graded Function: rank\n",
    "# Function determines the ranking of each element in the vector\n",
    "def rank(vec1,vec2):\n",
    "    \"\"\"\n",
    "    This function determines the ranking of each element in the vector\n",
    "\n",
    "    Arguments:\n",
    "        vec1 : unsorted vector\n",
    "        vec2 : sorted vector\n",
    "\n",
    "    Returns:\n",
    "        rank : vector of ranks\n",
    "    \"\"\"\n",
    "\n",
    "    # Determines n, namely the length of the vector whose elements will be ranked\n",
    "    n = len(vec1)\n",
    "\n",
    "    # Creates an object named rank which contains an empty matrix\n",
    "    rank = []\n",
    "\n",
    "    # Create a loop for the ith index until n\n",
    "    pass:\n",
    "\n",
    "        # Create a loop for index j until n\n",
    "        pass:\n",
    "\n",
    "            # Requirements if vec1 to i is the same as vec2 to j for i less than the length of vec 2\n",
    "            if (pass) and (pass):\n",
    "\n",
    "                # Adds the value j+1 to the rank object\n",
    "                rank.pass(pass)\n",
    "                \n",
    "    # Returns the rank object\n",
    "    return pass"
   ]
  },
  {
   "cell_type": "code",
   "execution_count": null,
   "metadata": {},
   "outputs": [],
   "source": [
    "# Graded Function: sum\n",
    "# Function that sums each vector element\n",
    "def sum(vec):\n",
    "    \"\"\"\n",
    "    This function determines the sums each vector element\n",
    "\n",
    "    Args:\n",
    "        vec : vector to be summed\n",
    "        \n",
    "    Returns:\n",
    "        sum_vec : sum of vector elements\n",
    "    \"\"\"\n",
    "    # Determines n ~ the length of the vector\n",
    "    pass\n",
    "\n",
    "    # Defines the sum_vec variable with an initial value of 0 which will hold the sum result value\n",
    "    pass\n",
    "\n",
    "    # Create a loop for index i until n\n",
    "    pass\n",
    "\n",
    "        # Adding the value of the i-th vector with the variable sum_vec\n",
    "        pass\n",
    "        \n",
    "    # Returns the summation value\n",
    "    return pass"
   ]
  },
  {
   "cell_type": "code",
   "execution_count": null,
   "metadata": {},
   "outputs": [],
   "source": [
    "# Graded Function: spearman\n",
    "# Spearman Rank Test Function\n",
    "def spearman(X,Y,Alpha):\n",
    "    \"\"\"\n",
    "    This function determines the Spearman rank correlation value and the Z hitung value\n",
    "\n",
    "    Args:\n",
    "        X : vector X\n",
    "        Y : vector Y\n",
    "        Alpha : significance level\n",
    "    \n",
    "    Returns:\n",
    "        Text containing Ho and H1 along with the critical area\n",
    "        Text containing arithmetic Zvalues ​​and Ztable values\n",
    "        Text containing the conclusion of the test\n",
    "        \n",
    "    \"\"\"\n",
    "    # Defines vector sort_x to store the results of sorting vector X\n",
    "    sort_x = pass\n",
    "\n",
    "    # Defines vector sort_y to store the results of sorting vector Y\n",
    "    sort_y = pass\n",
    "\n",
    "    # Defines vector rank_x to store the results of ranking vector X\n",
    "    rank_x = pass\n",
    "\n",
    "    # Defines vector rank_y to store the results of ranking vector Y\n",
    "    rank_y = pass\n",
    "\n",
    "    # Defines vector d to store the results of the difference between the rank of vector X and the rank of vector Y\n",
    "    d = pass\n",
    "\n",
    "    # Defines vector d2 to store the results of the square of each element in the d vector\n",
    "    d2 = pass\n",
    "\n",
    "    # Defines the sum_d2 variable to store the sum of the d2 vector\n",
    "    sum_d2 = pass\n",
    "\n",
    "    # Defines the n variable to store the length of the X vector\n",
    "    n = len(pass)\n",
    "\n",
    "    # Calculating the Spearman rank correlation value based on the existing formula\n",
    "    r = pass\n",
    "\n",
    "    # Calculating the Z hitung value based on the existing formula\n",
    "    z_hitung = pass\n",
    "    \n",
    "    # Calculating the Z tabel value based on the existing formula\n",
    "    z_tabel = st.norm.ppf(pass)\n",
    "\n",
    "\n",
    "    # Outputs text containing Ho and H1 along with the critical area\n",
    "    print(\"Ho : X and Y are independent\")\n",
    "    print(pass)\n",
    "    print(\"\\n\")\n",
    "    print(pass) #two-tailed test\n",
    "\n",
    "    # Outputs text containing arithmetic Z values ​​and table Z values\n",
    "    print(\"Zhit = \",pass)\n",
    "    print(\"Ztab = \",pass)\n",
    "\n",
    "    # Giving a space (vertical space)\n",
    "    print(pass)\n",
    "\n",
    "    # Determine whether Ho is rejected or not by seeing whether Z count is greater than Z table or z count is less than -z table (two-tailed test)\n",
    "    if (pass) pass (pass):\n",
    "        print(pass)\n",
    "        print(\"Conclusion : X and Y are not independent\")\n",
    "    else:\n",
    "        print(\"Ho accepted\")\n",
    "        print(pass)\n"
   ]
  },
  {
   "cell_type": "code",
   "execution_count": null,
   "metadata": {},
   "outputs": [],
   "source": [
    "# Don't edit this cell, just run it !\n",
    "X = [5.7,11.3,13.5,15.1,17.9,19.3,21]\n",
    "Y = [42.3,41.2,46.5,42.8,43.8,43.6,40]\n",
    "spearman(X,Y,0.01)"
   ]
  },
  {
   "cell_type": "markdown",
   "metadata": {},
   "source": [
    "## 2 : Let's Play With Pandas"
   ]
  },
  {
   "cell_type": "markdown",
   "metadata": {},
   "source": [
    "A student wants to do classification modelling on playlists to create a music recommendation program that is suitable for him. After he scraped using the Spotipy API on python, he finally got some of his spotify playlist music data. Help this student to do basic EDA and Data Manipulation so that it is ready to be processed and clean."
   ]
  },
  {
   "cell_type": "code",
   "execution_count": 2,
   "metadata": {},
   "outputs": [],
   "source": [
    "import pandas as pd\n",
    "import seaborn as sns"
   ]
  },
  {
   "cell_type": "code",
   "execution_count": null,
   "metadata": {},
   "outputs": [],
   "source": [
    "data1playlist1 = pd.read_csv(r\"Common Information - Mistikus 2020.csv\")\n",
    "data2playlist1 = pd.read_csv(r\"Song Character Information - Mistikus 2020.csv\")\n",
    "\n",
    "data1playlist2 = pd.read_csv(r\"Common Information - Mistikus 2021.csv\")\n",
    "data2playlist2 = pd.read_csv(r\"Song Character Information - Mistikus 2021.csv\")\n",
    "\n",
    "data1playlist3 = pd.read_csv(r\"Common Information - Mistikus 2022.csv\")\n",
    "data2playlist3 = pd.read_csv(r\"Song Character Information - Mistikus 2022.csv\")"
   ]
  },
  {
   "cell_type": "markdown",
   "metadata": {},
   "source": [
    "$A$ : Join each playlist to combine separate variables from 2 dataframes"
   ]
  },
  {
   "cell_type": "code",
   "execution_count": null,
   "metadata": {},
   "outputs": [],
   "source": [
    "playlist1 =\n",
    "playlist2 =\n",
    "playlist3 ="
   ]
  },
  {
   "cell_type": "markdown",
   "metadata": {},
   "source": [
    "$B$ : Join each playlist to combine All playlist into 1 Dataframe and make 1 column that contain Playlist origin\n",
    "\n",
    "Label <br>\n",
    "playlist1 = $0$ \\n<br>\n",
    "playlist2 = $1$ \\n<br>\n",
    "playlist3 = $2$ \\n<br>"
   ]
  },
  {
   "cell_type": "code",
   "execution_count": null,
   "metadata": {},
   "outputs": [],
   "source": [
    "playlistAll = "
   ]
  },
  {
   "cell_type": "markdown",
   "metadata": {},
   "source": [
    "$C$ : Visualise Correlation Heatmap."
   ]
  },
  {
   "cell_type": "code",
   "execution_count": null,
   "metadata": {},
   "outputs": [],
   "source": []
  },
  {
   "cell_type": "markdown",
   "metadata": {},
   "source": [
    "$D$ : Visualise each ['danceability', 'acousticness', 'energy', 'instrumentalness',\n",
    "       'liveness', 'valence', 'loudness', 'speechiness] variables to see how the distribution of each playlist differs."
   ]
  },
  {
   "cell_type": "code",
   "execution_count": null,
   "metadata": {},
   "outputs": [],
   "source": []
  },
  {
   "cell_type": "markdown",
   "metadata": {},
   "source": [
    "$E$ : visualise how variable keys affect song popularity ."
   ]
  }
 ],
 "metadata": {
  "kernelspec": {
   "display_name": "Python 3.9.9 64-bit",
   "language": "python",
   "name": "python3"
  },
  "language_info": {
   "codemirror_mode": {
    "name": "ipython",
    "version": 3
   },
   "file_extension": ".py",
   "mimetype": "text/x-python",
   "name": "python",
   "nbconvert_exporter": "python",
   "pygments_lexer": "ipython3",
   "version": "3.9.9"
  },
  "orig_nbformat": 4,
  "vscode": {
   "interpreter": {
    "hash": "a820877bb240290804912ab4e6c808c89634e69de391124838cf281dba6966bd"
   }
  }
 },
 "nbformat": 4,
 "nbformat_minor": 2
}
