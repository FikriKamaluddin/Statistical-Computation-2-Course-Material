{
 "cells": [
  {
   "attachments": {},
   "cell_type": "markdown",
   "metadata": {},
   "source": [
    "# Tugas Visualisasi Data\n",
    "\n",
    "## Prolog\n",
    "Anda diberikan dataset *churn-bigml-80* yang berisikan data customer churn milik perusahaan telekomunikasi. Customer churn adalah konsep dimana seorang pelanggan suatu perusahaan beralih ke perusahaan lain (dengan alasan tertentu). Kondisi churning yang tidak terkendali dapat menyebabkan kerugian bagi perusahaan yang ditinggalkan. Sebagai seorang data explorer, Anda mencoba untuk menelaah data tersebut untuk mencari adanya pola di dalamnya.\n",
    "\n",
    "Perhatikan instruksi yang diberikan. Anda diminta untuk memberikan interpretasi / penjelasan mengenai plot yang Anda buat (tidak hanya sekadar menyusun plot). Kreativitas akan mendapatkan nilai tambahan. Diperbolehkan untuk menggunakan library manapun. Selamat berkreasi!\n",
    "\n",
    "## Penjelasan Dataset\n",
    "Dataset ini berisikan 2666 baris dengan 19 kolom/features. Setiap baris adalah observasi yang bersifat *unique* (tidak mengandung duplikat) dan tidak mengandung *missing value*.\n",
    "\n",
    "Berikut adalah penjelasan singkat mengenai masing-masing kolom.\n",
    "\n",
    "- State : Negara bagian tempat tinggal customer\n",
    "- Account length: Lama customer berlangganan\n",
    "- Area code: Kode area milik customer\n",
    "- International plan: Apakah customer berlangganan paket internasional\n",
    "- Voice mail plan: Apakah customer berlangganan paket voice mail\n",
    "- Number vmail messages: Banyaknya voicemail yang dikirim customer\n",
    "- Total day minutes: Lama waktu penggunaan layanan pada siang hari (dalam menit)\n",
    "- Total day calls: Banyaknya panggilan pada siang hari\n",
    "- Total day charge: Biaya yang dikeluarkan customer pada siang hari\n",
    "- Total eve minutes: Lama waktu penggunaan layanan pada pagi hari (dalam menit)\n",
    "- Total eve calls: Banyaknya panggilan pada pagi hari\n",
    "- Total eve charge: Biaya yang dikeluarkan customer pada pagi hari\n",
    "- Total night minutes: Lama waktu penggunaan layanan pada malam hari (dalam menit)\n",
    "- Total night calls: Banyaknya panggilan pada malam hari\n",
    "- Total night charge: Biaya yang dikeluarkan customer pada malam hari\n",
    "- Total intl minutes: Lama waktu penggunaan layanan internasional (dalam menit)\n",
    "- Total intl calls: Banyaknya panggilan internasional yang digunakan \n",
    "- Total intl charge: Biaya yang dikeluarkan customer untuk layanan internasional\n",
    "- Customer service calls: Banyaknya panggilan kepada CS"
   ]
  },
  {
   "attachments": {},
   "cell_type": "markdown",
   "metadata": {},
   "source": [
    "## Import Dataset\n",
    "\n",
    "Import dataset dan tampilkan 6 baris pertama. Pastikan bahwa setiap kolom sudah sesuai. "
   ]
  },
  {
   "cell_type": "code",
   "execution_count": null,
   "metadata": {},
   "outputs": [],
   "source": [
    "# Import library yang diperlukan\n",
    "import pandas as pd\n",
    "\n",
    "# Import dataset\n",
    "df = pd.read_csv('...')\n",
    "\n",
    "# Tampilkan head()\n",
    "df.head()"
   ]
  },
  {
   "attachments": {},
   "cell_type": "markdown",
   "metadata": {},
   "source": [
    "Pastikan bahwa jumlah data sudah sesuai. Tampilkan banyaknya baris dan kolom dari data."
   ]
  },
  {
   "cell_type": "code",
   "execution_count": 6,
   "metadata": {},
   "outputs": [],
   "source": [
    "# Tampilkan banyaknya baris dan kolom\n"
   ]
  },
  {
   "attachments": {},
   "cell_type": "markdown",
   "metadata": {},
   "source": [
    "## Penggunaan telepon selular siang dan malam hari\n",
    "\n",
    "Pada umumnya, penggunaan telepon selular pada siang hari lebih tinggi daripada malam hari. Tunjukkan apakah data set mendukung pernyataan ini. Tampilkan distribusi dari Total day minutes dan Total night minutes. \n",
    "\n",
    "*Hint: Anda dapat membuat 2 plot untuk masing-masing variabel, kemudian membandingkan hasilnya*"
   ]
  },
  {
   "cell_type": "code",
   "execution_count": null,
   "metadata": {},
   "outputs": [],
   "source": [
    "# Import seaborn \n",
    "import seaborn as sns\n",
    "\n",
    "# Tampilkan plot distribusi dari Total day minutes & Total night minutes\n"
   ]
  },
  {
   "attachments": {},
   "cell_type": "markdown",
   "metadata": {},
   "source": [
    "Apakah pernyataan tersebut benar adanya? Berapakah lama waktu yang umumnya dihabiskan customer pada siang dan malam hari?\n",
    "\n",
    "*Hint: Untuk melihat lama waktu yang umumnya dihabiskan customer, Anda dapat melihat puncak data.*\n",
    "\n",
    "**Tuliskan argumen Anda disini**:\n"
   ]
  },
  {
   "attachments": {},
   "cell_type": "markdown",
   "metadata": {},
   "source": [
    "## Pelanggan Voicemail\n",
    "\n",
    "Anda ingin melihat perbandingan banyaknya pelanggan yang berlangganan voicemail dan tidak. Akan tetapi, Anda hanya ingin melihat dari kelompok pelanggan yang Churn. Seorang pelanggan dianggap churn jika ia telah melakukan panggilan kepada Customer Service sebanyak lebih dari 4 kali (eg. 5, 6, 7, ...). Buatlah kolom baru benama 'Churn' yang bernilai True jika pelanggan Churn dan False jika tidak Churn."
   ]
  },
  {
   "cell_type": "code",
   "execution_count": null,
   "metadata": {},
   "outputs": [],
   "source": [
    "# Buat kolom baru bernama Churn\n",
    "df['Churn'] = ..."
   ]
  },
  {
   "attachments": {},
   "cell_type": "markdown",
   "metadata": {},
   "source": [
    "Bandingkan jumlah pelanggan Churn dan non-Churn. Manakah yang lebih banyak?\n",
    "\n",
    "*Hint: Gunakan countplot untuk mempermudah*"
   ]
  },
  {
   "cell_type": "code",
   "execution_count": null,
   "metadata": {},
   "outputs": [],
   "source": [
    "# Churn vs Non Churn\n",
    "sns.countplot(...)"
   ]
  },
  {
   "attachments": {},
   "cell_type": "markdown",
   "metadata": {},
   "source": [
    "Ambil *slice* data pelanggan yang Churn (Churn = True)."
   ]
  },
  {
   "cell_type": "code",
   "execution_count": null,
   "metadata": {},
   "outputs": [],
   "source": [
    "# Slice data\n",
    "df_churn = df[...]\n",
    "\n",
    "# Tampilkan\n",
    "df_churn.head()"
   ]
  },
  {
   "attachments": {},
   "cell_type": "markdown",
   "metadata": {},
   "source": [
    "Tampilkan barplot yang menunjukkan perbandingan banyaknya pelanggan Churn yang berlangganan voicemail dan yang tidak."
   ]
  },
  {
   "cell_type": "code",
   "execution_count": null,
   "metadata": {},
   "outputs": [],
   "source": [
    "# Perbandingan banyaknya pelanggan Churn yang berlangganan voicemail dan yang tidak\n"
   ]
  },
  {
   "attachments": {},
   "cell_type": "markdown",
   "metadata": {},
   "source": [
    "Kesimpulan apa yang bisa Anda peroleh? \n",
    "\n",
    "**Tuliskan argumen Anda disini**:"
   ]
  },
  {
   "attachments": {},
   "cell_type": "markdown",
   "metadata": {},
   "source": [
    "## Jumlah Pengguna dari setiap State\n",
    "\n",
    "Anda ingin melihat jumlah pelanggan dari masing-masing State. Tampilkan sebuah diagram yang dapat menunjukkan jumlah pelanggan dari masing-masing State, diurutkan mulai dari tertinggi.\n",
    "\n",
    "*Hint: untuk mengurutkan, gunakan argumen tambahan bernama order = ...*"
   ]
  },
  {
   "cell_type": "code",
   "execution_count": null,
   "metadata": {},
   "outputs": [],
   "source": [
    "# Jumlah pengguna dari setiap State\n"
   ]
  },
  {
   "attachments": {},
   "cell_type": "markdown",
   "metadata": {},
   "source": [
    "Kesimpulan apa yang bisa Anda peroleh?\n",
    "\n",
    "**Tuliskan argumen Anda disini**:"
   ]
  },
  {
   "attachments": {},
   "cell_type": "markdown",
   "metadata": {},
   "source": [
    "## Hubungan Account Length & Intl Minutes\n",
    "\n",
    "Ada dugaan bahwa semakin lama seseorang berlangganan, maka semakin sering pula ia melakukan panggilan internasional. Hal ini dikarenakan panggilan internasional sering dilakukan oleh businessman yang umumnya loyal dan jarang beralih ke perusahaan lain. Tunjukkan hubungan antara Account length dengan Total intl minutes. "
   ]
  },
  {
   "cell_type": "code",
   "execution_count": null,
   "metadata": {},
   "outputs": [],
   "source": [
    "# Hubungan account length dengan total intl minutes\n"
   ]
  },
  {
   "attachments": {},
   "cell_type": "markdown",
   "metadata": {},
   "source": [
    "Apakah benar bahwa hubungan keduanya bersifat positif? \n",
    "\n",
    "**Tuliskan argumen Anda disini**:"
   ]
  }
 ],
 "metadata": {
  "kernelspec": {
   "display_name": "Python 3",
   "language": "python",
   "name": "python3"
  },
  "language_info": {
   "codemirror_mode": {
    "name": "ipython",
    "version": 3
   },
   "file_extension": ".py",
   "mimetype": "text/x-python",
   "name": "python",
   "nbconvert_exporter": "python",
   "pygments_lexer": "ipython3",
   "version": "3.9.6"
  },
  "orig_nbformat": 4
 },
 "nbformat": 4,
 "nbformat_minor": 2
}
