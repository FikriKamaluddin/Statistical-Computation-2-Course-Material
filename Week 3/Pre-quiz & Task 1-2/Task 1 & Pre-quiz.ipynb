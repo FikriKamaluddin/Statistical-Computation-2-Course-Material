{
 "cells": [
  {
   "attachments": {},
   "cell_type": "markdown",
   "metadata": {},
   "source": [
    "# Task 1 & Pre Quiz"
   ]
  },
  {
   "cell_type": "code",
   "execution_count": null,
   "metadata": {},
   "outputs": [],
   "source": [
    "# Dont Edit This Cell\n",
    "import pandas as pd\n",
    "import numpy as np"
   ]
  },
  {
   "attachments": {},
   "cell_type": "markdown",
   "metadata": {},
   "source": [
    "# Let's Play With Numpy"
   ]
  },
  {
   "attachments": {},
   "cell_type": "markdown",
   "metadata": {},
   "source": [
    "## 1. Finding The Trace of a Matrix"
   ]
  },
  {
   "attachments": {},
   "cell_type": "markdown",
   "metadata": {},
   "source": [
    "In linear algebra, the trace of a square matrix A, denoted $tr(A)$. is defined to be the sum of elements on the main diagonal (from the upper left to the lower right) of $A$. The trace is only defined for a square matrix $(n × n)$.\n",
    "\n",
    "It can be proved that the trace of a matrix is the sum of its (complex) eigenvalues (counted with multiplicities). It can also be proved that $tr(AB) = tr(BA)$ for any two matrices $A$ and $B$. This implies that similar matrices have the same trace. As a consequence one can define the trace of a linear operator mapping a finite-dimensional vector space into itself, since all matrices describing such an operator with respect to a basis are similar.\n",
    "\n",
    "The trace is related to the derivative of the determinant\n",
    "\n",
    "## Definition\n",
    "\n",
    "The trace of an $n × n$ square matrix A is defined as\n",
    "\n",
    "$$tr(A) = \\sum_{n=1}^{n} a_{ii} = a_{11} + a_{22}+... +a_{nn}$$\n",
    "\n",
    "where $a_{ii}$ denotes the entry on the $i$ th row and $i$ th column of $A$. The entries of $A$ can be real numbers or (more generally) complex numbers.\n",
    "\n",
    "The trace is not defined for non-square matrices."
   ]
  },
  {
   "cell_type": "code",
   "execution_count": null,
   "metadata": {},
   "outputs": [],
   "source": [
    "# YOU'RE NOT ALLOWED TO USE trace = np.trace() IN THIS TASK\n",
    "\n",
    "# Graded Function\n",
    "def trace_matrix(matrix):\n",
    "    \"\"\"\n",
    "    This function takes a matrix and returns the trace of the matrix.\n",
    "    \n",
    "    Arguments:\n",
    "    matrix -- a numpy array of shape (n, n)\n",
    "\n",
    "    Returns:\n",
    "    trace -- trace of matrix\n",
    "    \"\"\"\n",
    "    # YOUR CODE HERE\n",
    "    # uncomment the next line and replace the ____ with the correct code   \n",
    "    trace = ____\n",
    "\n",
    "    # Get the number of rows or columns\n",
    "    n_rows, n_cols = _____\n",
    "\n",
    "    # Iterate over the rows or columns\n",
    "    for ____ in range(____):\n",
    "        for ___ in range(____):\n",
    "            # Check if the row and column are the same\n",
    "            if ___ == ___:\n",
    "                # Add the value to the trace\n",
    "                trace += matrix[____]\n",
    "    \n",
    "    # END SOLUTION\n",
    "\n",
    "    return _____"
   ]
  },
  {
   "attachments": {},
   "cell_type": "markdown",
   "metadata": {},
   "source": [
    "In order to test your code, we shall be using the testing module of Numpy. More on this later."
   ]
  },
  {
   "cell_type": "code",
   "execution_count": null,
   "metadata": {},
   "outputs": [],
   "source": [
    "# Dont Edit This Cell, Just Run It\n",
    "A = np.array([[3, 2, 7],\n",
    "              [4, 9, 0],\n",
    "              [1, 8, 5]])\n",
    "s_exp = 17\n",
    "np.testing.assert_allclose(trace_matrix(A), s_exp, rtol=1e-5)\n",
    "\n",
    "A = np.array([[12, -2, 31, 18],\n",
    "              [32, -77, -24, 19],\n",
    "              [87, 93, -53, 13],\n",
    "              [49, 81, 63, 70]])\n",
    "s_exp = -48\n",
    "np.testing.assert_allclose(trace_matrix(A), s_exp, rtol=1e-5)\n",
    "\n",
    "print(\"All tests passed!\")"
   ]
  },
  {
   "attachments": {},
   "cell_type": "markdown",
   "metadata": {},
   "source": [
    "## 2. Diagonalizing a Matrix"
   ]
  },
  {
   "attachments": {},
   "cell_type": "markdown",
   "metadata": {},
   "source": [
    "In this question, you shall be given a square matrix which you need to diagonalize. In particular, you will be given a diagonalizable matrix $A$ and you need to find matrices $S$ and $D$ such that: $$A = SDS^{{-1}}$$\n",
    "\n",
    "Recall that in order to do this, you must first find all the eigenvalues and eigenvectors of $A$. Then, $S$ is the matrix of all the eigenvectors arranged as columns, and $D$ is the matrix of the corresponding eigenvalues arranged along the diagonal.\n",
    "\n",
    "Suppose $A = \n",
    "\\begin{bmatrix}\n",
    "1 & 5 \\\\\n",
    "2 & 4 \\\\\n",
    "\\end{bmatrix} $\n",
    "\n",
    "Then, we can calculate $S = \n",
    "\\begin{bmatrix}\n",
    "-2.5 & 1 \\\\\n",
    "1 & 1 \\\\\n",
    "\\end{bmatrix} $\n",
    "\n",
    "And $D = \n",
    "\\begin{bmatrix}\n",
    "-1 & 0 \\\\\n",
    "0 & 6 \\\\\n",
    "\\end{bmatrix} $\n",
    "\n",
    "You might find [np.zeros()](https://numpy.org/devdocs/reference/generated/numpy.zeros.html), [np.linalg.eig()](https://numpy.org/devdocs/reference/generated/numpy.linalg.eig.html) and [np.linalg.inv()](https://numpy.org/devdocs/reference/generated/numpy.linalg.inv.html) useful. Note that for this exercise, you may assume that $A$ is always diagonalizable.\n",
    "\n",
    "For testing purposes, each eigenvector in $S$ must be of unit length. This shall always be the case if you use [np.linalg.eig()](https://numpy.org/devdocs/reference/generated/numpy.linalg.eig.html). However, if you do not use this function, then depending on your implementation, you might have to normalize the eigenvectors. Also, the eigenvalues must appear in non decreasing order."
   ]
  },
  {
   "cell_type": "code",
   "execution_count": null,
   "metadata": {},
   "outputs": [],
   "source": [
    "# Graded Function\n",
    "def diagonal(X):\n",
    "    \"\"\"\n",
    "    Diagonalizes the input matrix X\n",
    "    \n",
    "    Arguments:\n",
    "    A: A two dimensional Numpy array which is guaranteed to be diagonalizable\n",
    "\n",
    "    Returns:\n",
    "    S, D, S_inv: As explained above\n",
    "    \"\"\"\n",
    "    # YOUR CODE HERE\n",
    "    # Retrieve the number of rows in a\n",
    "    pass\n",
    "\n",
    "    # Get the eigenvalues and eigenvectors of A\n",
    "    pass\n",
    "\n",
    "    # Start by initializing D to a matrix of zeros of the appropriate shape\n",
    "    pass\n",
    "\n",
    "    # Set the diagonal element of D to be the eigenvalues\n",
    "    pass\n",
    "\n",
    "    # Compute the inverse of S\n",
    "    pass\n",
    "\n",
    "    # End solution\n",
    "\n",
    "    return pass\n"
   ]
  },
  {
   "cell_type": "code",
   "execution_count": null,
   "metadata": {},
   "outputs": [],
   "source": [
    "# Don't Edit This Cell, Just Run It\n",
    "A = np.array([[1, 5],\n",
    "              [2, 4]])\n",
    "S_exp = np.array([[-0.92847669, -0.70710678],\n",
    "                  [ 0.37139068, -0.70710678]])\n",
    "D_exp = np.array([[-1, 0],\n",
    "                  [0, 6]])\n",
    "S_inv_exp = np.array([[-0.76930926,  0.76930926],\n",
    "                      [-0.40406102, -1.01015254]])\n",
    "\n",
    "\n",
    "S, D, S_inv = diagonal(A)\n",
    "np.testing.assert_allclose(S_exp, S, rtol=1e-5, atol=1e-10)\n",
    "np.testing.assert_allclose(D_exp, D, rtol=1e-5, atol=1e-10)\n",
    "np.testing.assert_allclose(S_inv_exp, S_inv, rtol=1e-5, atol=1e-10)\n",
    "\n",
    "A = np.array([[4, -9, 6, 12],\n",
    "              [0, -1, 4, 6],\n",
    "              [2, -11, 8, 16],\n",
    "              [-1, 3, 0, -1]])\n",
    "S_exp = np.array([[ -5.00000000e-01, 8.01783726e-01,  9.04534034e-01,  3.77964473e-01],\n",
    "                  [ -5.00000000e-01, 5.34522484e-01,  3.01511345e-01,  7.55928946e-01],\n",
    "                  [ 5.00000000e-01, -7.95591412e-15,  3.01511345e-01,  3.77964473e-01],\n",
    "                  [ -5.00000000e-01, 2.67261242e-01, -2.21106380e-15,  3.77964473e-01]])\n",
    "D_exp = np.array([[1, 0, 0, 0],\n",
    "                  [0, 2, 0, 0],\n",
    "                  [0, 0, 3, 0],\n",
    "                  [0, 0, 0, 4]])\n",
    "S_inv_exp = np.array([[ -2.00000000e+00, 1.00000000e+01,  -4.00000000e+00,  -1.40000000e+01],\n",
    "                      [ -3.74165739e+00, 2.24499443e+01,  -1.12249722e+01,  -2.99332591e+01],\n",
    "                      [ 3.31662479e+00, -1.32664992e+01,  6.63324958e+00,  1.65831240e+01],\n",
    "                      [ -8.81212207e-16, -2.64575131e+00,  2.64575131e+00,  5.29150262e+00]])\n",
    "\n",
    "S, D, S_inv = diagonal(A)\n",
    "np.testing.assert_allclose(S_exp, S, rtol=1e-5, atol=1e-10)\n",
    "np.testing.assert_allclose(D_exp, D, rtol=1e-5, atol=1e-10)\n",
    "np.testing.assert_allclose(S_inv_exp, S_inv, rtol=1e-5, atol=1e-10)\n",
    "\n",
    "print(\"All tests passed!\")"
   ]
  },
  {
   "attachments": {},
   "cell_type": "markdown",
   "metadata": {},
   "source": [
    "## 3. Polynomial Multiplication"
   ]
  },
  {
   "attachments": {},
   "cell_type": "markdown",
   "metadata": {},
   "source": [
    "In this function, you shall be implementing polynomial multiplication. You will be given two one dimensional numpy arrays $A$ and $B$, the coefficients of the two polynomials, where $a_i$ is the coefficient of $x^i$ in $A$. You must calculate the coefficients of $A \\cdot B$.\n",
    "\n",
    "More formally, if $C$ is the resultant one dimensional array, then $$c_i = \\sum_{j+k=i}^{} a_j*b_k$$\n",
    "\n",
    "There are multiple ways to do this, and your implementation may require you to use functions which we have not introduced to you. If that is the case, we encourage you to look at the [documentation](https://numpy.org/doc/stable/index.html).\n",
    "\n",
    "Finally, try to implement this function using only a single for loop over $i$, and try to implement the summation using only inbuilt functions of Numpy. This will lead to much faster code, thanks to vectorization.\n",
    "\n",
    "We shall not guide you through this function by as much as we did with the others.\n",
    "\n",
    "Additional hints:\n",
    "- $A$ and $B$ might be of different sizes. Depending on your implementation, this might have an effect. Pad the end of the smaller array with zeros so that $A$ and $B$ have the same size. You might want to take a look at [np.pad()](https://numpy.org/doc/stable/reference/generated/numpy.pad.html).\n",
    "- For a fixed $i$, try to see how $j$ and $k$ vary and which elements of $A$ and $B$ can be multiplied together. Does the resultant expression seem similar? Maybe the dot product of two slices?\n",
    "- You can use [np.flip()](https://numpy.org/doc/stable/reference/generated/numpy.flip.html) to reverse a Numpy array.\n",
    "- Make sure that your answer does not have any zeros at the end. Try to find a function in Numpy which does that for you.\n",
    "\n",
    "In case you are curious, there are faster ways to implement polynomial multiplication. If you are interested and feel (very) confident about your math and algorithmic skills, take a look at [FFT](https://cp-algorithms.com/algebra/fft.html)."
   ]
  },
  {
   "cell_type": "code",
   "execution_count": null,
   "metadata": {},
   "outputs": [],
   "source": [
    "# Graded Function\n",
    "def multiply(A, B):\n",
    "    \"\"\"\n",
    "    Multiplies two polynomials\n",
    "\n",
    "    Arguments:\n",
    "    A: Coefficients of the first polynomial\n",
    "    B: Coefficients of the second polynomial\n",
    "\n",
    "    Returns:\n",
    "    C: The coefficients of A*B\n",
    "    \"\"\"\n",
    "    ### BEGIN SOLUTION\n",
    "    # Find the coefficients of both the polynomials# Find the coefficients of both the polynomials\n",
    "    na = ____\n",
    "    nb = ____\n",
    "    \n",
    "    # Pad the smaller array with 0s\n",
    "    pass\n",
    "\n",
    "    # Initialize the output array with 0s\n",
    "    C = pass\n",
    "\n",
    "    # Perform the multiplication\n",
    "    # You might want to break the loop over i into two separate phases\n",
    "    pass\n",
    "\n",
    "    # Remove any extra 0s from the back of C\n",
    "    C = pass\n",
    "\n",
    "    ### END SOLUTION\n",
    "    return pass"
   ]
  },
  {
   "cell_type": "code",
   "execution_count": null,
   "metadata": {},
   "outputs": [],
   "source": [
    "# DONT CHANGE ANYTHING BELOW THIS LINE, JUST RUN THIS CELL\n",
    "A = np.array([1, 2])\n",
    "B = np.array([3, 4])\n",
    "C_exp = np.array([3, 10, 8])\n",
    "np.testing.assert_allclose(multiply(A, B), C_exp, rtol=1e-5, atol=1e-10)\n",
    "\n",
    "A = np.array([1, 3, 5, 9])\n",
    "B = np.array([5, 6])\n",
    "C_exp = np.array([5, 21, 43, 75, 54])\n",
    "np.testing.assert_allclose(multiply(A, B), C_exp, rtol=1e-5, atol=1e-10)\n",
    "\n",
    "print(\"All tests passed!\")"
   ]
  },
  {
   "attachments": {},
   "cell_type": "markdown",
   "metadata": {},
   "source": [
    "## 4. Let's Play With The Bear (Ice Breaking) !\n",
    "\n",
    "## Reflecting Bear\n",
    "\n",
    "### Background\n",
    "Panda Bear is confused. He is trying to work out how things should look when reflected in a mirror, but is getting the wrong results.\n",
    "In Bear's coordinates, the mirror lies along the first axis.\n",
    "But, as is the way with bears, his coordinate system is not orthonormal: so what he thinks is the direction perpendicular to the mirror isn't actually the direction the mirror reflects in.\n",
    "Help Bear write a code that will do his matrix calculations properly! \n",
    "\n",
    "### Matrices in Python\n",
    "For this exercise, we shall make use of the @ operator again.\n",
    "Recall from the last exercise, we used this operator to take the dot product of vectors.\n",
    "In general the operator will combine vectors and/or matrices in the expected linear algebra way,\n",
    "i.e. it will be either the vector dot product, matrix multiplication, or matrix operation on a vector, depending on it's input.\n",
    "For example to calculate the following expressions,\n",
    "\n",
    "$ a = \\mathbf{s}\\cdot\\mathbf{t}$\n",
    "\n",
    "$ \\mathbf{s} = A\\mathbf{t}$\n",
    "\n",
    "$ M = A B $,\n",
    "\n",
    "One would use the code,\n",
    "```python\n",
    "a = s @ t\n",
    "s = A @ t\n",
    "M = A @ B\n",
    "```\n",
    "(This is in contrast to the $*$ operator, which performs element-wise multiplication, or multiplication by a scalar.)\n",
    "\n",
    "You may need to use some of the following functions:\n",
    "```python\n",
    "inv(A)\n",
    "transpose(A)\n",
    "gsBasis(A)\n",
    "```\n",
    "These, respectively, take the inverse of a matrix, give the transpose of a matrix, and produce a matrix of orthonormal column vectors given a general matrix of column vectors - i.e. perform the Gram-Schmidt process.\n",
    "This exercise will require you to combine some of these functions."
   ]
  },
  {
   "cell_type": "code",
   "execution_count": null,
   "metadata": {},
   "outputs": [],
   "source": [
    "# PACKAGE\n",
    "# Run this cell first once to load the dependancies.\n",
    "import numpy as np\n",
    "from numpy.linalg import norm, inv\n",
    "from numpy import transpose\n",
    "from bearNecessities import *"
   ]
  },
  {
   "cell_type": "code",
   "execution_count": null,
   "metadata": {},
   "outputs": [],
   "source": [
    "# GRADED FUNCTION\n",
    "# You should edit this cell.\n",
    "\n",
    "# In this function, you will return the transformation matrix T,\n",
    "# having built it out of an orthonormal basis set E that you create from Bear's Basis\n",
    "# and a transformation matrix in the mirror's coordinates TE.\n",
    "def build_reflection_matrix(bearBasis) : # The parameter bearBasis is a 2×2 matrix that is passed to the function.\n",
    "    # Use the gsBasis function on bearBasis to get the mirror's orthonormal basis.\n",
    "    E = _____\n",
    "    # Write a matrix in component form that performs the mirror's reflection in the mirror's basis.\n",
    "    # Recall, the mirror operates by negating the last component of a vector.\n",
    "    # Replace a,b,c,d with appropriate values\n",
    "    TE = np.array([[a, b],\n",
    "                   [c, d]])\n",
    "    # Combine the matrices E and TE to produce your transformation matrix.\n",
    "    T = _____\n",
    "    # Finally, we return the result. There is no need to change this line.\n",
    "    return T\n"
   ]
  },
  {
   "attachments": {},
   "cell_type": "markdown",
   "metadata": {},
   "source": [
    "## Test your code before submission\n",
    "To test the code you've written above, run the cell (select the cell above, then press the play button [ ▶| ] or press shift-enter).\n",
    "You can then use the code below to test out your function.\n",
    "You don't need to submit this cell; you can edit and run it as much as you like.\n",
    "\n",
    "The code below will show a picture of Panda Bear.\n",
    "If you have correctly implemented the function above, you will also see Bear's reflection in his mirror.\n",
    "The orange axes are Bear's basis, and the pink axes are the mirror's orthonormal basis."
   ]
  },
  {
   "cell_type": "code",
   "execution_count": null,
   "metadata": {},
   "outputs": [],
   "source": [
    "# DO NOT EDIT ANYTHING BELOW THIS LINE\n",
    "# First load Pyplot, a graph plotting library.\n",
    "%matplotlib inline\n",
    "import matplotlib.pyplot as plt\n",
    "\n",
    "# This is the matrix of Bear's basis vectors.\n",
    "# (When you've done the exercise once, see what happns when you change Bear's basis.)\n",
    "bearBasis = np.array(\n",
    "    [[1,   -1],\n",
    "     [1.5, 2]])\n",
    "# This line uses your code to build a transformation matrix for us to use.\n",
    "T = build_reflection_matrix(bearBasis)\n",
    "\n",
    "# Bear is drawn as a set of polygons, the vertices of which are placed as a matrix list of column vectors.\n",
    "# We have three of these non-square matrix lists: bear_white_fur, bear_black_fur, and bear_face.\n",
    "# We'll make new lists of vertices by applying the T matrix you've calculated.\n",
    "reflected_bear_white_fur = T @ bear_white_fur\n",
    "reflected_bear_black_fur = T @ bear_black_fur\n",
    "reflected_bear_face = T @ bear_face\n",
    "\n",
    "# This next line runs a code to set up the graphics environment.\n",
    "ax = draw_mirror(bearBasis)\n",
    "\n",
    "# We'll first plot Bear, his white fur, his black fur, and his face.\n",
    "ax.fill(bear_white_fur[0], bear_white_fur[1], color=bear_white, zorder=1)\n",
    "ax.fill(bear_black_fur[0], bear_black_fur[1], color=bear_black, zorder=2)\n",
    "ax.plot(bear_face[0], bear_face[1], color=bear_white, zorder=3)\n",
    "\n",
    "# Next we'll plot Bear's reflection.\n",
    "ax.fill(reflected_bear_white_fur[0], reflected_bear_white_fur[1], color=bear_white, zorder=1)\n",
    "ax.fill(reflected_bear_black_fur[0], reflected_bear_black_fur[1], color=bear_black, zorder=2)\n",
    "ax.plot(reflected_bear_face[0], reflected_bear_face[1], color=bear_white, zorder=3);\n"
   ]
  },
  {
   "attachments": {},
   "cell_type": "markdown",
   "metadata": {},
   "source": [
    "# B. Let's Play With Pandas Merge"
   ]
  },
  {
   "cell_type": "code",
   "execution_count": null,
   "metadata": {},
   "outputs": [],
   "source": [
    "# Change the path only, if you have saved the file in a different location\n",
    "Book = pd.read_excel('Data Task 1.xlsx', sheet_name='Book')\n",
    "Flow = pd.read_excel('Data Task 1.xlsx', sheet_name='Flow')\n",
    "Users = pd.read_excel('Data Task 1.xlsx', sheet_name='Users')"
   ]
  },
  {
   "attachments": {},
   "cell_type": "markdown",
   "metadata": {},
   "source": [
    "Use the JOIN clause for :\n",
    "* Displays all book titles that have borrowed status and the date they were borrowed on 2022-04-18\n",
    "* Displays all book titles, including books that are not borrowed and the loan userID that borrowed the book\n",
    "* Shows all borrowed books and all userID, whether he borrowed or not\n",
    "* Using one query, make a list of all book titles and names of users who borrowed the books and those users have borrowed more than 3 books."
   ]
  },
  {
   "attachments": {},
   "cell_type": "markdown",
   "metadata": {},
   "source": [
    "## 5. Graded Task\n",
    "## Displays all book titles that have borrowed status and the date they were borrowed on 2022-04-18"
   ]
  },
  {
   "cell_type": "code",
   "execution_count": null,
   "metadata": {},
   "outputs": [],
   "source": [
    "# Write your code below\n",
    "\n"
   ]
  },
  {
   "attachments": {},
   "cell_type": "markdown",
   "metadata": {},
   "source": [
    "## 6. Graded Task\n",
    "## Displays all book titles, including books that are not borrowed and the loan userID that borrowed the book"
   ]
  },
  {
   "cell_type": "code",
   "execution_count": null,
   "metadata": {},
   "outputs": [],
   "source": [
    "\n",
    "# Write your code below\n",
    "\n"
   ]
  },
  {
   "attachments": {},
   "cell_type": "markdown",
   "metadata": {},
   "source": [
    "## 7. Graded Task\n",
    "## Using a query, make a list of all book titles and names of users who borrowed the books and those users have borrowed more than 3 books."
   ]
  },
  {
   "cell_type": "code",
   "execution_count": null,
   "metadata": {},
   "outputs": [],
   "source": [
    "# Write your code below\n"
   ]
  }
 ],
 "metadata": {
  "kernelspec": {
   "display_name": "Python 3",
   "language": "python",
   "name": "python3"
  },
  "language_info": {
   "codemirror_mode": {
    "name": "ipython",
    "version": 3
   },
   "file_extension": ".py",
   "mimetype": "text/x-python",
   "name": "python",
   "nbconvert_exporter": "python",
   "pygments_lexer": "ipython3",
   "version": "3.10.9"
  },
  "orig_nbformat": 4
 },
 "nbformat": 4,
 "nbformat_minor": 2
}
