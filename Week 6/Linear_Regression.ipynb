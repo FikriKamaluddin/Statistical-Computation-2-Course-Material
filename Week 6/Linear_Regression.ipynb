{
  "cells": [
    {
      "cell_type": "markdown",
      "metadata": {
        "id": "toIGWkQ_Jfai"
      },
      "source": [
        "# Import data"
      ]
    },
    {
      "cell_type": "code",
      "execution_count": 1,
      "metadata": {
        "id": "P4NlDRjVLGNq"
      },
      "outputs": [],
      "source": [
        "import pandas as pd"
      ]
    },
    {
      "cell_type": "code",
      "execution_count": 2,
      "metadata": {
        "id": "7J9EzWW8Jclh"
      },
      "outputs": [],
      "source": [
        "data = pd.read_csv(\"Carseats.csv\")"
      ]
    },
    {
      "cell_type": "code",
      "execution_count": 3,
      "metadata": {
        "colab": {
          "base_uri": "https://localhost:8080/"
        },
        "id": "k132UL77LJpu",
        "outputId": "b3bb9dad-eea3-4433-b791-a8272850e1e6"
      },
      "outputs": [
        {
          "data": {
            "text/html": [
              "<div>\n",
              "<style scoped>\n",
              "    .dataframe tbody tr th:only-of-type {\n",
              "        vertical-align: middle;\n",
              "    }\n",
              "\n",
              "    .dataframe tbody tr th {\n",
              "        vertical-align: top;\n",
              "    }\n",
              "\n",
              "    .dataframe thead th {\n",
              "        text-align: right;\n",
              "    }\n",
              "</style>\n",
              "<table border=\"1\" class=\"dataframe\">\n",
              "  <thead>\n",
              "    <tr style=\"text-align: right;\">\n",
              "      <th></th>\n",
              "      <th>Sales</th>\n",
              "      <th>CompPrice</th>\n",
              "      <th>Income</th>\n",
              "      <th>Advertising</th>\n",
              "      <th>Population</th>\n",
              "      <th>Price</th>\n",
              "      <th>ShelveLoc</th>\n",
              "      <th>Age</th>\n",
              "      <th>Education</th>\n",
              "      <th>Urban</th>\n",
              "      <th>US</th>\n",
              "    </tr>\n",
              "  </thead>\n",
              "  <tbody>\n",
              "    <tr>\n",
              "      <th>0</th>\n",
              "      <td>9.50</td>\n",
              "      <td>138</td>\n",
              "      <td>73</td>\n",
              "      <td>11</td>\n",
              "      <td>276</td>\n",
              "      <td>120</td>\n",
              "      <td>Bad</td>\n",
              "      <td>42</td>\n",
              "      <td>17</td>\n",
              "      <td>Yes</td>\n",
              "      <td>Yes</td>\n",
              "    </tr>\n",
              "    <tr>\n",
              "      <th>1</th>\n",
              "      <td>11.22</td>\n",
              "      <td>111</td>\n",
              "      <td>48</td>\n",
              "      <td>16</td>\n",
              "      <td>260</td>\n",
              "      <td>83</td>\n",
              "      <td>Good</td>\n",
              "      <td>65</td>\n",
              "      <td>10</td>\n",
              "      <td>Yes</td>\n",
              "      <td>Yes</td>\n",
              "    </tr>\n",
              "    <tr>\n",
              "      <th>2</th>\n",
              "      <td>10.06</td>\n",
              "      <td>113</td>\n",
              "      <td>35</td>\n",
              "      <td>10</td>\n",
              "      <td>269</td>\n",
              "      <td>80</td>\n",
              "      <td>Medium</td>\n",
              "      <td>59</td>\n",
              "      <td>12</td>\n",
              "      <td>Yes</td>\n",
              "      <td>Yes</td>\n",
              "    </tr>\n",
              "    <tr>\n",
              "      <th>3</th>\n",
              "      <td>7.40</td>\n",
              "      <td>117</td>\n",
              "      <td>100</td>\n",
              "      <td>4</td>\n",
              "      <td>466</td>\n",
              "      <td>97</td>\n",
              "      <td>Medium</td>\n",
              "      <td>55</td>\n",
              "      <td>14</td>\n",
              "      <td>Yes</td>\n",
              "      <td>Yes</td>\n",
              "    </tr>\n",
              "    <tr>\n",
              "      <th>4</th>\n",
              "      <td>4.15</td>\n",
              "      <td>141</td>\n",
              "      <td>64</td>\n",
              "      <td>3</td>\n",
              "      <td>340</td>\n",
              "      <td>128</td>\n",
              "      <td>Bad</td>\n",
              "      <td>38</td>\n",
              "      <td>13</td>\n",
              "      <td>Yes</td>\n",
              "      <td>No</td>\n",
              "    </tr>\n",
              "    <tr>\n",
              "      <th>...</th>\n",
              "      <td>...</td>\n",
              "      <td>...</td>\n",
              "      <td>...</td>\n",
              "      <td>...</td>\n",
              "      <td>...</td>\n",
              "      <td>...</td>\n",
              "      <td>...</td>\n",
              "      <td>...</td>\n",
              "      <td>...</td>\n",
              "      <td>...</td>\n",
              "      <td>...</td>\n",
              "    </tr>\n",
              "    <tr>\n",
              "      <th>395</th>\n",
              "      <td>12.57</td>\n",
              "      <td>138</td>\n",
              "      <td>108</td>\n",
              "      <td>17</td>\n",
              "      <td>203</td>\n",
              "      <td>128</td>\n",
              "      <td>Good</td>\n",
              "      <td>33</td>\n",
              "      <td>14</td>\n",
              "      <td>Yes</td>\n",
              "      <td>Yes</td>\n",
              "    </tr>\n",
              "    <tr>\n",
              "      <th>396</th>\n",
              "      <td>6.14</td>\n",
              "      <td>139</td>\n",
              "      <td>23</td>\n",
              "      <td>3</td>\n",
              "      <td>37</td>\n",
              "      <td>120</td>\n",
              "      <td>Medium</td>\n",
              "      <td>55</td>\n",
              "      <td>11</td>\n",
              "      <td>No</td>\n",
              "      <td>Yes</td>\n",
              "    </tr>\n",
              "    <tr>\n",
              "      <th>397</th>\n",
              "      <td>7.41</td>\n",
              "      <td>162</td>\n",
              "      <td>26</td>\n",
              "      <td>12</td>\n",
              "      <td>368</td>\n",
              "      <td>159</td>\n",
              "      <td>Medium</td>\n",
              "      <td>40</td>\n",
              "      <td>18</td>\n",
              "      <td>Yes</td>\n",
              "      <td>Yes</td>\n",
              "    </tr>\n",
              "    <tr>\n",
              "      <th>398</th>\n",
              "      <td>5.94</td>\n",
              "      <td>100</td>\n",
              "      <td>79</td>\n",
              "      <td>7</td>\n",
              "      <td>284</td>\n",
              "      <td>95</td>\n",
              "      <td>Bad</td>\n",
              "      <td>50</td>\n",
              "      <td>12</td>\n",
              "      <td>Yes</td>\n",
              "      <td>Yes</td>\n",
              "    </tr>\n",
              "    <tr>\n",
              "      <th>399</th>\n",
              "      <td>9.71</td>\n",
              "      <td>134</td>\n",
              "      <td>37</td>\n",
              "      <td>0</td>\n",
              "      <td>27</td>\n",
              "      <td>120</td>\n",
              "      <td>Good</td>\n",
              "      <td>49</td>\n",
              "      <td>16</td>\n",
              "      <td>Yes</td>\n",
              "      <td>Yes</td>\n",
              "    </tr>\n",
              "  </tbody>\n",
              "</table>\n",
              "<p>400 rows × 11 columns</p>\n",
              "</div>"
            ],
            "text/plain": [
              "     Sales  CompPrice  Income  Advertising  Population  Price ShelveLoc  Age   \n",
              "0     9.50        138      73           11         276    120       Bad   42  \\\n",
              "1    11.22        111      48           16         260     83      Good   65   \n",
              "2    10.06        113      35           10         269     80    Medium   59   \n",
              "3     7.40        117     100            4         466     97    Medium   55   \n",
              "4     4.15        141      64            3         340    128       Bad   38   \n",
              "..     ...        ...     ...          ...         ...    ...       ...  ...   \n",
              "395  12.57        138     108           17         203    128      Good   33   \n",
              "396   6.14        139      23            3          37    120    Medium   55   \n",
              "397   7.41        162      26           12         368    159    Medium   40   \n",
              "398   5.94        100      79            7         284     95       Bad   50   \n",
              "399   9.71        134      37            0          27    120      Good   49   \n",
              "\n",
              "     Education Urban   US  \n",
              "0           17   Yes  Yes  \n",
              "1           10   Yes  Yes  \n",
              "2           12   Yes  Yes  \n",
              "3           14   Yes  Yes  \n",
              "4           13   Yes   No  \n",
              "..         ...   ...  ...  \n",
              "395         14   Yes  Yes  \n",
              "396         11    No  Yes  \n",
              "397         18   Yes  Yes  \n",
              "398         12   Yes  Yes  \n",
              "399         16   Yes  Yes  \n",
              "\n",
              "[400 rows x 11 columns]"
            ]
          },
          "execution_count": 3,
          "metadata": {},
          "output_type": "execute_result"
        }
      ],
      "source": [
        "data"
      ]
    },
    {
      "cell_type": "markdown",
      "metadata": {
        "id": "Kg7njJ1sJifl"
      },
      "source": [
        "# Normality Test"
      ]
    },
    {
      "cell_type": "code",
      "execution_count": 4,
      "metadata": {
        "id": "jne3iwItOQWU"
      },
      "outputs": [],
      "source": [
        "from scipy import stats"
      ]
    },
    {
      "cell_type": "code",
      "execution_count": 5,
      "metadata": {
        "colab": {
          "base_uri": "https://localhost:8080/"
        },
        "id": "_Zo2XcgYOUFH",
        "outputId": "4893c899-5fb6-4342-a9c1-7b11574bf223"
      },
      "outputs": [
        {
          "data": {
            "text/plain": [
              "KstestResult(statistic=0.9666322582846675, pvalue=0.0, statistic_location=2.52, statistic_sign=-1)"
            ]
          },
          "execution_count": 5,
          "metadata": {},
          "output_type": "execute_result"
        }
      ],
      "source": [
        "stats.kstest(data[\"Sales\"], 'norm')"
      ]
    },
    {
      "cell_type": "markdown",
      "metadata": {
        "id": "5NpAEzsePe5Z"
      },
      "source": [
        "Karena nilai sig. = 0.000 <  0.05 = α. Maka H0 ditolak. Artinya data variabel dependen (Sales) diambil dari populasi yang tidak berdistribusi normal. Jadi asumsi normalitas data dependen untuk melakukan uji regresi linear berganda tidak terpenuhi. Sehingga data variabel dependen tidak dapat digunakan untuk melakukan pengujian lebuh lanjut. namun untuk keperluan lebih lanjut maka kita asumsikan berdistribusi normal."
      ]
    },
    {
      "cell_type": "markdown",
      "metadata": {
        "id": "WAtWTdJdQz29"
      },
      "source": [
        "# Linearitas "
      ]
    },
    {
      "cell_type": "code",
      "execution_count": 6,
      "metadata": {
        "id": "rfP83u7NRN56"
      },
      "outputs": [],
      "source": [
        "import matplotlib.pyplot as plt\n",
        "import seaborn as sns"
      ]
    },
    {
      "cell_type": "code",
      "execution_count": 7,
      "metadata": {
        "id": "6nycu7X0RZTn"
      },
      "outputs": [],
      "source": [
        "mydata =data[[\"Sales\",\"CompPrice\",\"Income\",\"Advertising\",\"Population\",\"Price\",\"Age\",\"Education\"]]"
      ]
    },
    {
      "cell_type": "code",
      "execution_count": 8,
      "metadata": {
        "colab": {
          "base_uri": "https://localhost:8080/",
          "height": 334
        },
        "id": "Ynf1UzNxRMRQ",
        "outputId": "e3a65c6f-776e-410e-b5cf-ce7df46a9c9a"
      },
      "outputs": [
        {
          "data": {
            "text/plain": [
              "<Axes: >"
            ]
          },
          "execution_count": 8,
          "metadata": {},
          "output_type": "execute_result"
        },
        {
          "data": {
            "image/png": "[encoded data removed]",
            "text/plain": [
              "<Figure size 640x480 with 2 Axes>"
            ]
          },
          "metadata": {},
          "output_type": "display_data"
        }
      ],
      "source": [
        "%matplotlib inline\n",
        "correlation = mydata.corr()\n",
        "sns.heatmap(correlation,annot=True)"
      ]
    },
    {
      "cell_type": "markdown",
      "metadata": {
        "id": "BG-oZS-CQmUc"
      },
      "source": [
        "# Linear Regression"
      ]
    },
    {
      "cell_type": "markdown",
      "metadata": {
        "id": "IZFz-BECTJIe"
      },
      "source": [
        "Make Dummies Variable"
      ]
    },
    {
      "cell_type": "code",
      "execution_count": 9,
      "metadata": {
        "id": "7oJ9PKQWSlsG"
      },
      "outputs": [],
      "source": [
        "dms = pd.get_dummies(data[['ShelveLoc',\"Urban\",\"US\"]])"
      ]
    },
    {
      "cell_type": "code",
      "execution_count": 10,
      "metadata": {
        "colab": {
          "base_uri": "https://localhost:8080/"
        },
        "id": "-sPSj6OeTXu6",
        "outputId": "c1b8c569-2b31-4e90-f4cf-911c45890032"
      },
      "outputs": [
        {
          "data": {
            "text/html": [
              "<div>\n",
              "<style scoped>\n",
              "    .dataframe tbody tr th:only-of-type {\n",
              "        vertical-align: middle;\n",
              "    }\n",
              "\n",
              "    .dataframe tbody tr th {\n",
              "        vertical-align: top;\n",
              "    }\n",
              "\n",
              "    .dataframe thead th {\n",
              "        text-align: right;\n",
              "    }\n",
              "</style>\n",
              "<table border=\"1\" class=\"dataframe\">\n",
              "  <thead>\n",
              "    <tr style=\"text-align: right;\">\n",
              "      <th></th>\n",
              "      <th>ShelveLoc_Bad</th>\n",
              "      <th>ShelveLoc_Good</th>\n",
              "      <th>ShelveLoc_Medium</th>\n",
              "      <th>Urban_No</th>\n",
              "      <th>Urban_Yes</th>\n",
              "      <th>US_No</th>\n",
              "      <th>US_Yes</th>\n",
              "    </tr>\n",
              "  </thead>\n",
              "  <tbody>\n",
              "    <tr>\n",
              "      <th>0</th>\n",
              "      <td>True</td>\n",
              "      <td>False</td>\n",
              "      <td>False</td>\n",
              "      <td>False</td>\n",
              "      <td>True</td>\n",
              "      <td>False</td>\n",
              "      <td>True</td>\n",
              "    </tr>\n",
              "    <tr>\n",
              "      <th>1</th>\n",
              "      <td>False</td>\n",
              "      <td>True</td>\n",
              "      <td>False</td>\n",
              "      <td>False</td>\n",
              "      <td>True</td>\n",
              "      <td>False</td>\n",
              "      <td>True</td>\n",
              "    </tr>\n",
              "    <tr>\n",
              "      <th>2</th>\n",
              "      <td>False</td>\n",
              "      <td>False</td>\n",
              "      <td>True</td>\n",
              "      <td>False</td>\n",
              "      <td>True</td>\n",
              "      <td>False</td>\n",
              "      <td>True</td>\n",
              "    </tr>\n",
              "    <tr>\n",
              "      <th>3</th>\n",
              "      <td>False</td>\n",
              "      <td>False</td>\n",
              "      <td>True</td>\n",
              "      <td>False</td>\n",
              "      <td>True</td>\n",
              "      <td>False</td>\n",
              "      <td>True</td>\n",
              "    </tr>\n",
              "    <tr>\n",
              "      <th>4</th>\n",
              "      <td>True</td>\n",
              "      <td>False</td>\n",
              "      <td>False</td>\n",
              "      <td>False</td>\n",
              "      <td>True</td>\n",
              "      <td>True</td>\n",
              "      <td>False</td>\n",
              "    </tr>\n",
              "    <tr>\n",
              "      <th>...</th>\n",
              "      <td>...</td>\n",
              "      <td>...</td>\n",
              "      <td>...</td>\n",
              "      <td>...</td>\n",
              "      <td>...</td>\n",
              "      <td>...</td>\n",
              "      <td>...</td>\n",
              "    </tr>\n",
              "    <tr>\n",
              "      <th>395</th>\n",
              "      <td>False</td>\n",
              "      <td>True</td>\n",
              "      <td>False</td>\n",
              "      <td>False</td>\n",
              "      <td>True</td>\n",
              "      <td>False</td>\n",
              "      <td>True</td>\n",
              "    </tr>\n",
              "    <tr>\n",
              "      <th>396</th>\n",
              "      <td>False</td>\n",
              "      <td>False</td>\n",
              "      <td>True</td>\n",
              "      <td>True</td>\n",
              "      <td>False</td>\n",
              "      <td>False</td>\n",
              "      <td>True</td>\n",
              "    </tr>\n",
              "    <tr>\n",
              "      <th>397</th>\n",
              "      <td>False</td>\n",
              "      <td>False</td>\n",
              "      <td>True</td>\n",
              "      <td>False</td>\n",
              "      <td>True</td>\n",
              "      <td>False</td>\n",
              "      <td>True</td>\n",
              "    </tr>\n",
              "    <tr>\n",
              "      <th>398</th>\n",
              "      <td>True</td>\n",
              "      <td>False</td>\n",
              "      <td>False</td>\n",
              "      <td>False</td>\n",
              "      <td>True</td>\n",
              "      <td>False</td>\n",
              "      <td>True</td>\n",
              "    </tr>\n",
              "    <tr>\n",
              "      <th>399</th>\n",
              "      <td>False</td>\n",
              "      <td>True</td>\n",
              "      <td>False</td>\n",
              "      <td>False</td>\n",
              "      <td>True</td>\n",
              "      <td>False</td>\n",
              "      <td>True</td>\n",
              "    </tr>\n",
              "  </tbody>\n",
              "</table>\n",
              "<p>400 rows × 7 columns</p>\n",
              "</div>"
            ],
            "text/plain": [
              "     ShelveLoc_Bad  ShelveLoc_Good  ShelveLoc_Medium  Urban_No  Urban_Yes   \n",
              "0             True           False             False     False       True  \\\n",
              "1            False            True             False     False       True   \n",
              "2            False           False              True     False       True   \n",
              "3            False           False              True     False       True   \n",
              "4             True           False             False     False       True   \n",
              "..             ...             ...               ...       ...        ...   \n",
              "395          False            True             False     False       True   \n",
              "396          False           False              True      True      False   \n",
              "397          False           False              True     False       True   \n",
              "398           True           False             False     False       True   \n",
              "399          False            True             False     False       True   \n",
              "\n",
              "     US_No  US_Yes  \n",
              "0    False    True  \n",
              "1    False    True  \n",
              "2    False    True  \n",
              "3    False    True  \n",
              "4     True   False  \n",
              "..     ...     ...  \n",
              "395  False    True  \n",
              "396  False    True  \n",
              "397  False    True  \n",
              "398  False    True  \n",
              "399  False    True  \n",
              "\n",
              "[400 rows x 7 columns]"
            ]
          },
          "execution_count": 10,
          "metadata": {},
          "output_type": "execute_result"
        }
      ],
      "source": [
        "dms"
      ]
    },
    {
      "cell_type": "markdown",
      "metadata": {
        "id": "bLx_gdE1Uo52"
      },
      "source": [
        "*   pada variable ShelveLoc akan dipilih ShelveLoc_Bad sebagai refference catagory \n",
        "*   pada variable Urban akan dipilih Urban_no sebagai refference catagory \n",
        "*   pada variable US akan dipilih US_no sebagai refference catagory \n",
        "\n",
        "\n",
        "\n",
        "\n"
      ]
    },
    {
      "cell_type": "code",
      "execution_count": 11,
      "metadata": {
        "colab": {
          "base_uri": "https://localhost:8080/"
        },
        "id": "TDuU9sx1UC6D",
        "outputId": "b66c10cc-9225-44f4-e767-61f46fe67f76"
      },
      "outputs": [
        {
          "data": {
            "text/html": [
              "<div>\n",
              "<style scoped>\n",
              "    .dataframe tbody tr th:only-of-type {\n",
              "        vertical-align: middle;\n",
              "    }\n",
              "\n",
              "    .dataframe tbody tr th {\n",
              "        vertical-align: top;\n",
              "    }\n",
              "\n",
              "    .dataframe thead th {\n",
              "        text-align: right;\n",
              "    }\n",
              "</style>\n",
              "<table border=\"1\" class=\"dataframe\">\n",
              "  <thead>\n",
              "    <tr style=\"text-align: right;\">\n",
              "      <th></th>\n",
              "      <th>Sales</th>\n",
              "      <th>CompPrice</th>\n",
              "      <th>Income</th>\n",
              "      <th>Advertising</th>\n",
              "      <th>Population</th>\n",
              "      <th>Price</th>\n",
              "      <th>ShelveLoc</th>\n",
              "      <th>Age</th>\n",
              "      <th>Education</th>\n",
              "      <th>Urban</th>\n",
              "      <th>US</th>\n",
              "      <th>ShelveLoc_Bad</th>\n",
              "      <th>ShelveLoc_Good</th>\n",
              "      <th>ShelveLoc_Medium</th>\n",
              "      <th>Urban_No</th>\n",
              "      <th>Urban_Yes</th>\n",
              "      <th>US_No</th>\n",
              "      <th>US_Yes</th>\n",
              "    </tr>\n",
              "  </thead>\n",
              "  <tbody>\n",
              "    <tr>\n",
              "      <th>0</th>\n",
              "      <td>9.50</td>\n",
              "      <td>138</td>\n",
              "      <td>73</td>\n",
              "      <td>11</td>\n",
              "      <td>276</td>\n",
              "      <td>120</td>\n",
              "      <td>Bad</td>\n",
              "      <td>42</td>\n",
              "      <td>17</td>\n",
              "      <td>Yes</td>\n",
              "      <td>Yes</td>\n",
              "      <td>True</td>\n",
              "      <td>False</td>\n",
              "      <td>False</td>\n",
              "      <td>False</td>\n",
              "      <td>True</td>\n",
              "      <td>False</td>\n",
              "      <td>True</td>\n",
              "    </tr>\n",
              "    <tr>\n",
              "      <th>1</th>\n",
              "      <td>11.22</td>\n",
              "      <td>111</td>\n",
              "      <td>48</td>\n",
              "      <td>16</td>\n",
              "      <td>260</td>\n",
              "      <td>83</td>\n",
              "      <td>Good</td>\n",
              "      <td>65</td>\n",
              "      <td>10</td>\n",
              "      <td>Yes</td>\n",
              "      <td>Yes</td>\n",
              "      <td>False</td>\n",
              "      <td>True</td>\n",
              "      <td>False</td>\n",
              "      <td>False</td>\n",
              "      <td>True</td>\n",
              "      <td>False</td>\n",
              "      <td>True</td>\n",
              "    </tr>\n",
              "    <tr>\n",
              "      <th>2</th>\n",
              "      <td>10.06</td>\n",
              "      <td>113</td>\n",
              "      <td>35</td>\n",
              "      <td>10</td>\n",
              "      <td>269</td>\n",
              "      <td>80</td>\n",
              "      <td>Medium</td>\n",
              "      <td>59</td>\n",
              "      <td>12</td>\n",
              "      <td>Yes</td>\n",
              "      <td>Yes</td>\n",
              "      <td>False</td>\n",
              "      <td>False</td>\n",
              "      <td>True</td>\n",
              "      <td>False</td>\n",
              "      <td>True</td>\n",
              "      <td>False</td>\n",
              "      <td>True</td>\n",
              "    </tr>\n",
              "    <tr>\n",
              "      <th>3</th>\n",
              "      <td>7.40</td>\n",
              "      <td>117</td>\n",
              "      <td>100</td>\n",
              "      <td>4</td>\n",
              "      <td>466</td>\n",
              "      <td>97</td>\n",
              "      <td>Medium</td>\n",
              "      <td>55</td>\n",
              "      <td>14</td>\n",
              "      <td>Yes</td>\n",
              "      <td>Yes</td>\n",
              "      <td>False</td>\n",
              "      <td>False</td>\n",
              "      <td>True</td>\n",
              "      <td>False</td>\n",
              "      <td>True</td>\n",
              "      <td>False</td>\n",
              "      <td>True</td>\n",
              "    </tr>\n",
              "    <tr>\n",
              "      <th>4</th>\n",
              "      <td>4.15</td>\n",
              "      <td>141</td>\n",
              "      <td>64</td>\n",
              "      <td>3</td>\n",
              "      <td>340</td>\n",
              "      <td>128</td>\n",
              "      <td>Bad</td>\n",
              "      <td>38</td>\n",
              "      <td>13</td>\n",
              "      <td>Yes</td>\n",
              "      <td>No</td>\n",
              "      <td>True</td>\n",
              "      <td>False</td>\n",
              "      <td>False</td>\n",
              "      <td>False</td>\n",
              "      <td>True</td>\n",
              "      <td>True</td>\n",
              "      <td>False</td>\n",
              "    </tr>\n",
              "    <tr>\n",
              "      <th>...</th>\n",
              "      <td>...</td>\n",
              "      <td>...</td>\n",
              "      <td>...</td>\n",
              "      <td>...</td>\n",
              "      <td>...</td>\n",
              "      <td>...</td>\n",
              "      <td>...</td>\n",
              "      <td>...</td>\n",
              "      <td>...</td>\n",
              "      <td>...</td>\n",
              "      <td>...</td>\n",
              "      <td>...</td>\n",
              "      <td>...</td>\n",
              "      <td>...</td>\n",
              "      <td>...</td>\n",
              "      <td>...</td>\n",
              "      <td>...</td>\n",
              "      <td>...</td>\n",
              "    </tr>\n",
              "    <tr>\n",
              "      <th>395</th>\n",
              "      <td>12.57</td>\n",
              "      <td>138</td>\n",
              "      <td>108</td>\n",
              "      <td>17</td>\n",
              "      <td>203</td>\n",
              "      <td>128</td>\n",
              "      <td>Good</td>\n",
              "      <td>33</td>\n",
              "      <td>14</td>\n",
              "      <td>Yes</td>\n",
              "      <td>Yes</td>\n",
              "      <td>False</td>\n",
              "      <td>True</td>\n",
              "      <td>False</td>\n",
              "      <td>False</td>\n",
              "      <td>True</td>\n",
              "      <td>False</td>\n",
              "      <td>True</td>\n",
              "    </tr>\n",
              "    <tr>\n",
              "      <th>396</th>\n",
              "      <td>6.14</td>\n",
              "      <td>139</td>\n",
              "      <td>23</td>\n",
              "      <td>3</td>\n",
              "      <td>37</td>\n",
              "      <td>120</td>\n",
              "      <td>Medium</td>\n",
              "      <td>55</td>\n",
              "      <td>11</td>\n",
              "      <td>No</td>\n",
              "      <td>Yes</td>\n",
              "      <td>False</td>\n",
              "      <td>False</td>\n",
              "      <td>True</td>\n",
              "      <td>True</td>\n",
              "      <td>False</td>\n",
              "      <td>False</td>\n",
              "      <td>True</td>\n",
              "    </tr>\n",
              "    <tr>\n",
              "      <th>397</th>\n",
              "      <td>7.41</td>\n",
              "      <td>162</td>\n",
              "      <td>26</td>\n",
              "      <td>12</td>\n",
              "      <td>368</td>\n",
              "      <td>159</td>\n",
              "      <td>Medium</td>\n",
              "      <td>40</td>\n",
              "      <td>18</td>\n",
              "      <td>Yes</td>\n",
              "      <td>Yes</td>\n",
              "      <td>False</td>\n",
              "      <td>False</td>\n",
              "      <td>True</td>\n",
              "      <td>False</td>\n",
              "      <td>True</td>\n",
              "      <td>False</td>\n",
              "      <td>True</td>\n",
              "    </tr>\n",
              "    <tr>\n",
              "      <th>398</th>\n",
              "      <td>5.94</td>\n",
              "      <td>100</td>\n",
              "      <td>79</td>\n",
              "      <td>7</td>\n",
              "      <td>284</td>\n",
              "      <td>95</td>\n",
              "      <td>Bad</td>\n",
              "      <td>50</td>\n",
              "      <td>12</td>\n",
              "      <td>Yes</td>\n",
              "      <td>Yes</td>\n",
              "      <td>True</td>\n",
              "      <td>False</td>\n",
              "      <td>False</td>\n",
              "      <td>False</td>\n",
              "      <td>True</td>\n",
              "      <td>False</td>\n",
              "      <td>True</td>\n",
              "    </tr>\n",
              "    <tr>\n",
              "      <th>399</th>\n",
              "      <td>9.71</td>\n",
              "      <td>134</td>\n",
              "      <td>37</td>\n",
              "      <td>0</td>\n",
              "      <td>27</td>\n",
              "      <td>120</td>\n",
              "      <td>Good</td>\n",
              "      <td>49</td>\n",
              "      <td>16</td>\n",
              "      <td>Yes</td>\n",
              "      <td>Yes</td>\n",
              "      <td>False</td>\n",
              "      <td>True</td>\n",
              "      <td>False</td>\n",
              "      <td>False</td>\n",
              "      <td>True</td>\n",
              "      <td>False</td>\n",
              "      <td>True</td>\n",
              "    </tr>\n",
              "  </tbody>\n",
              "</table>\n",
              "<p>400 rows × 18 columns</p>\n",
              "</div>"
            ],
            "text/plain": [
              "     Sales  CompPrice  Income  Advertising  Population  Price ShelveLoc  Age   \n",
              "0     9.50        138      73           11         276    120       Bad   42  \\\n",
              "1    11.22        111      48           16         260     83      Good   65   \n",
              "2    10.06        113      35           10         269     80    Medium   59   \n",
              "3     7.40        117     100            4         466     97    Medium   55   \n",
              "4     4.15        141      64            3         340    128       Bad   38   \n",
              "..     ...        ...     ...          ...         ...    ...       ...  ...   \n",
              "395  12.57        138     108           17         203    128      Good   33   \n",
              "396   6.14        139      23            3          37    120    Medium   55   \n",
              "397   7.41        162      26           12         368    159    Medium   40   \n",
              "398   5.94        100      79            7         284     95       Bad   50   \n",
              "399   9.71        134      37            0          27    120      Good   49   \n",
              "\n",
              "     Education Urban   US  ShelveLoc_Bad  ShelveLoc_Good  ShelveLoc_Medium   \n",
              "0           17   Yes  Yes           True           False             False  \\\n",
              "1           10   Yes  Yes          False            True             False   \n",
              "2           12   Yes  Yes          False           False              True   \n",
              "3           14   Yes  Yes          False           False              True   \n",
              "4           13   Yes   No           True           False             False   \n",
              "..         ...   ...  ...            ...             ...               ...   \n",
              "395         14   Yes  Yes          False            True             False   \n",
              "396         11    No  Yes          False           False              True   \n",
              "397         18   Yes  Yes          False           False              True   \n",
              "398         12   Yes  Yes           True           False             False   \n",
              "399         16   Yes  Yes          False            True             False   \n",
              "\n",
              "     Urban_No  Urban_Yes  US_No  US_Yes  \n",
              "0       False       True  False    True  \n",
              "1       False       True  False    True  \n",
              "2       False       True  False    True  \n",
              "3       False       True  False    True  \n",
              "4       False       True   True   False  \n",
              "..        ...        ...    ...     ...  \n",
              "395     False       True  False    True  \n",
              "396      True      False  False    True  \n",
              "397     False       True  False    True  \n",
              "398     False       True  False    True  \n",
              "399     False       True  False    True  \n",
              "\n",
              "[400 rows x 18 columns]"
            ]
          },
          "execution_count": 11,
          "metadata": {},
          "output_type": "execute_result"
        }
      ],
      "source": [
        "mydata= pd.concat([data,dms], axis=1 )\n",
        "mydata"
      ]
    },
    {
      "cell_type": "code",
      "execution_count": 12,
      "metadata": {},
      "outputs": [
        {
          "name": "stdout",
          "output_type": "stream",
          "text": [
            "<class 'pandas.core.frame.DataFrame'>\n",
            "RangeIndex: 400 entries, 0 to 399\n",
            "Data columns (total 18 columns):\n",
            " #   Column            Non-Null Count  Dtype  \n",
            "---  ------            --------------  -----  \n",
            " 0   Sales             400 non-null    float64\n",
            " 1   CompPrice         400 non-null    int64  \n",
            " 2   Income            400 non-null    int64  \n",
            " 3   Advertising       400 non-null    int64  \n",
            " 4   Population        400 non-null    int64  \n",
            " 5   Price             400 non-null    int64  \n",
            " 6   ShelveLoc         400 non-null    object \n",
            " 7   Age               400 non-null    int64  \n",
            " 8   Education         400 non-null    int64  \n",
            " 9   Urban             400 non-null    object \n",
            " 10  US                400 non-null    object \n",
            " 11  ShelveLoc_Bad     400 non-null    bool   \n",
            " 12  ShelveLoc_Good    400 non-null    bool   \n",
            " 13  ShelveLoc_Medium  400 non-null    bool   \n",
            " 14  Urban_No          400 non-null    bool   \n",
            " 15  Urban_Yes         400 non-null    bool   \n",
            " 16  US_No             400 non-null    bool   \n",
            " 17  US_Yes            400 non-null    bool   \n",
            "dtypes: bool(7), float64(1), int64(7), object(3)\n",
            "memory usage: 37.2+ KB\n"
          ]
        }
      ],
      "source": [
        "mydata.info()"
      ]
    },
    {
      "cell_type": "code",
      "execution_count": 13,
      "metadata": {},
      "outputs": [],
      "source": [
        "# Converti boolean to int\n",
        "mydata[\"ShelveLoc_Bad\"] = mydata[\"ShelveLoc_Bad\"].astype(int)\n",
        "mydata[\"ShelveLoc_Good\"] = mydata[\"ShelveLoc_Good\"].astype(int)\n",
        "mydata[\"ShelveLoc_Medium\"] = mydata[\"ShelveLoc_Medium\"].astype(int)\n",
        "mydata[\"Urban_No\"] = mydata[\"Urban_No\"].astype(int)\n",
        "mydata[\"Urban_Yes\"] = mydata[\"Urban_Yes\"].astype(int)\n",
        "mydata[\"US_No\"] = mydata[\"US_No\"].astype(int)\n",
        "mydata[\"US_Yes\"] = mydata[\"US_Yes\"].astype(int)\n"
      ]
    },
    {
      "cell_type": "markdown",
      "metadata": {
        "id": "2dSnQPOkUbac"
      },
      "source": [
        "subsetting data for regression linear"
      ]
    },
    {
      "cell_type": "code",
      "execution_count": 14,
      "metadata": {
        "colab": {
          "base_uri": "https://localhost:8080/"
        },
        "id": "UNee7H-QUHos",
        "outputId": "402416c5-3254-4a65-8f87-eab555026db7"
      },
      "outputs": [
        {
          "data": {
            "text/html": [
              "<div>\n",
              "<style scoped>\n",
              "    .dataframe tbody tr th:only-of-type {\n",
              "        vertical-align: middle;\n",
              "    }\n",
              "\n",
              "    .dataframe tbody tr th {\n",
              "        vertical-align: top;\n",
              "    }\n",
              "\n",
              "    .dataframe thead th {\n",
              "        text-align: right;\n",
              "    }\n",
              "</style>\n",
              "<table border=\"1\" class=\"dataframe\">\n",
              "  <thead>\n",
              "    <tr style=\"text-align: right;\">\n",
              "      <th></th>\n",
              "      <th>Sales</th>\n",
              "      <th>CompPrice</th>\n",
              "      <th>Income</th>\n",
              "      <th>Advertising</th>\n",
              "      <th>Population</th>\n",
              "      <th>Price</th>\n",
              "      <th>Age</th>\n",
              "      <th>Education</th>\n",
              "      <th>ShelveLoc_Good</th>\n",
              "      <th>ShelveLoc_Medium</th>\n",
              "      <th>Urban_Yes</th>\n",
              "      <th>US_Yes</th>\n",
              "    </tr>\n",
              "  </thead>\n",
              "  <tbody>\n",
              "    <tr>\n",
              "      <th>0</th>\n",
              "      <td>9.50</td>\n",
              "      <td>138</td>\n",
              "      <td>73</td>\n",
              "      <td>11</td>\n",
              "      <td>276</td>\n",
              "      <td>120</td>\n",
              "      <td>42</td>\n",
              "      <td>17</td>\n",
              "      <td>0</td>\n",
              "      <td>0</td>\n",
              "      <td>1</td>\n",
              "      <td>1</td>\n",
              "    </tr>\n",
              "    <tr>\n",
              "      <th>1</th>\n",
              "      <td>11.22</td>\n",
              "      <td>111</td>\n",
              "      <td>48</td>\n",
              "      <td>16</td>\n",
              "      <td>260</td>\n",
              "      <td>83</td>\n",
              "      <td>65</td>\n",
              "      <td>10</td>\n",
              "      <td>1</td>\n",
              "      <td>0</td>\n",
              "      <td>1</td>\n",
              "      <td>1</td>\n",
              "    </tr>\n",
              "    <tr>\n",
              "      <th>2</th>\n",
              "      <td>10.06</td>\n",
              "      <td>113</td>\n",
              "      <td>35</td>\n",
              "      <td>10</td>\n",
              "      <td>269</td>\n",
              "      <td>80</td>\n",
              "      <td>59</td>\n",
              "      <td>12</td>\n",
              "      <td>0</td>\n",
              "      <td>1</td>\n",
              "      <td>1</td>\n",
              "      <td>1</td>\n",
              "    </tr>\n",
              "    <tr>\n",
              "      <th>3</th>\n",
              "      <td>7.40</td>\n",
              "      <td>117</td>\n",
              "      <td>100</td>\n",
              "      <td>4</td>\n",
              "      <td>466</td>\n",
              "      <td>97</td>\n",
              "      <td>55</td>\n",
              "      <td>14</td>\n",
              "      <td>0</td>\n",
              "      <td>1</td>\n",
              "      <td>1</td>\n",
              "      <td>1</td>\n",
              "    </tr>\n",
              "    <tr>\n",
              "      <th>4</th>\n",
              "      <td>4.15</td>\n",
              "      <td>141</td>\n",
              "      <td>64</td>\n",
              "      <td>3</td>\n",
              "      <td>340</td>\n",
              "      <td>128</td>\n",
              "      <td>38</td>\n",
              "      <td>13</td>\n",
              "      <td>0</td>\n",
              "      <td>0</td>\n",
              "      <td>1</td>\n",
              "      <td>0</td>\n",
              "    </tr>\n",
              "    <tr>\n",
              "      <th>...</th>\n",
              "      <td>...</td>\n",
              "      <td>...</td>\n",
              "      <td>...</td>\n",
              "      <td>...</td>\n",
              "      <td>...</td>\n",
              "      <td>...</td>\n",
              "      <td>...</td>\n",
              "      <td>...</td>\n",
              "      <td>...</td>\n",
              "      <td>...</td>\n",
              "      <td>...</td>\n",
              "      <td>...</td>\n",
              "    </tr>\n",
              "    <tr>\n",
              "      <th>395</th>\n",
              "      <td>12.57</td>\n",
              "      <td>138</td>\n",
              "      <td>108</td>\n",
              "      <td>17</td>\n",
              "      <td>203</td>\n",
              "      <td>128</td>\n",
              "      <td>33</td>\n",
              "      <td>14</td>\n",
              "      <td>1</td>\n",
              "      <td>0</td>\n",
              "      <td>1</td>\n",
              "      <td>1</td>\n",
              "    </tr>\n",
              "    <tr>\n",
              "      <th>396</th>\n",
              "      <td>6.14</td>\n",
              "      <td>139</td>\n",
              "      <td>23</td>\n",
              "      <td>3</td>\n",
              "      <td>37</td>\n",
              "      <td>120</td>\n",
              "      <td>55</td>\n",
              "      <td>11</td>\n",
              "      <td>0</td>\n",
              "      <td>1</td>\n",
              "      <td>0</td>\n",
              "      <td>1</td>\n",
              "    </tr>\n",
              "    <tr>\n",
              "      <th>397</th>\n",
              "      <td>7.41</td>\n",
              "      <td>162</td>\n",
              "      <td>26</td>\n",
              "      <td>12</td>\n",
              "      <td>368</td>\n",
              "      <td>159</td>\n",
              "      <td>40</td>\n",
              "      <td>18</td>\n",
              "      <td>0</td>\n",
              "      <td>1</td>\n",
              "      <td>1</td>\n",
              "      <td>1</td>\n",
              "    </tr>\n",
              "    <tr>\n",
              "      <th>398</th>\n",
              "      <td>5.94</td>\n",
              "      <td>100</td>\n",
              "      <td>79</td>\n",
              "      <td>7</td>\n",
              "      <td>284</td>\n",
              "      <td>95</td>\n",
              "      <td>50</td>\n",
              "      <td>12</td>\n",
              "      <td>0</td>\n",
              "      <td>0</td>\n",
              "      <td>1</td>\n",
              "      <td>1</td>\n",
              "    </tr>\n",
              "    <tr>\n",
              "      <th>399</th>\n",
              "      <td>9.71</td>\n",
              "      <td>134</td>\n",
              "      <td>37</td>\n",
              "      <td>0</td>\n",
              "      <td>27</td>\n",
              "      <td>120</td>\n",
              "      <td>49</td>\n",
              "      <td>16</td>\n",
              "      <td>1</td>\n",
              "      <td>0</td>\n",
              "      <td>1</td>\n",
              "      <td>1</td>\n",
              "    </tr>\n",
              "  </tbody>\n",
              "</table>\n",
              "<p>400 rows × 12 columns</p>\n",
              "</div>"
            ],
            "text/plain": [
              "     Sales  CompPrice  Income  Advertising  Population  Price  Age  Education   \n",
              "0     9.50        138      73           11         276    120   42         17  \\\n",
              "1    11.22        111      48           16         260     83   65         10   \n",
              "2    10.06        113      35           10         269     80   59         12   \n",
              "3     7.40        117     100            4         466     97   55         14   \n",
              "4     4.15        141      64            3         340    128   38         13   \n",
              "..     ...        ...     ...          ...         ...    ...  ...        ...   \n",
              "395  12.57        138     108           17         203    128   33         14   \n",
              "396   6.14        139      23            3          37    120   55         11   \n",
              "397   7.41        162      26           12         368    159   40         18   \n",
              "398   5.94        100      79            7         284     95   50         12   \n",
              "399   9.71        134      37            0          27    120   49         16   \n",
              "\n",
              "     ShelveLoc_Good  ShelveLoc_Medium  Urban_Yes  US_Yes  \n",
              "0                 0                 0          1       1  \n",
              "1                 1                 0          1       1  \n",
              "2                 0                 1          1       1  \n",
              "3                 0                 1          1       1  \n",
              "4                 0                 0          1       0  \n",
              "..              ...               ...        ...     ...  \n",
              "395               1                 0          1       1  \n",
              "396               0                 1          0       1  \n",
              "397               0                 1          1       1  \n",
              "398               0                 0          1       1  \n",
              "399               1                 0          1       1  \n",
              "\n",
              "[400 rows x 12 columns]"
            ]
          },
          "execution_count": 14,
          "metadata": {},
          "output_type": "execute_result"
        }
      ],
      "source": [
        "data_reg=mydata[[\"Sales\",\"CompPrice\",\"Income\",\"Advertising\",\"Population\",\"Price\",\"Age\",\"Education\",\"ShelveLoc_Good\",\"ShelveLoc_Medium\",\"Urban_Yes\",\"US_Yes\"]]\n",
        "data_reg"
      ]
    },
    {
      "cell_type": "markdown",
      "metadata": {
        "id": "c-N7ADU6Vqz6"
      },
      "source": [
        "Begin Multiple Linear Regression"
      ]
    },
    {
      "cell_type": "code",
      "execution_count": 15,
      "metadata": {
        "colab": {
          "base_uri": "https://localhost:8080/"
        },
        "id": "ZoymG_mtWPoR",
        "outputId": "176939f1-9ad7-4ec8-8fe3-c45a430dc419"
      },
      "outputs": [],
      "source": [
        "import statsmodels.api as sm"
      ]
    },
    {
      "cell_type": "markdown",
      "metadata": {
        "id": "r5226VrBaSMf"
      },
      "source": [
        "# Model 1"
      ]
    },
    {
      "cell_type": "markdown",
      "metadata": {
        "id": "-zJgsWuTWCw8"
      },
      "source": [
        "make variable x & y"
      ]
    },
    {
      "cell_type": "code",
      "execution_count": 16,
      "metadata": {
        "id": "RPihhvPlVt-5"
      },
      "outputs": [],
      "source": [
        "x = data_reg[[\"CompPrice\",\"Income\",\"Advertising\",\"Population\",\"Price\",\"Age\",\"Education\",\"ShelveLoc_Good\",\"ShelveLoc_Medium\",\"Urban_Yes\",\"US_Yes\"]]"
      ]
    },
    {
      "cell_type": "code",
      "execution_count": 17,
      "metadata": {
        "id": "mrhife5SV5kh"
      },
      "outputs": [],
      "source": [
        "y = data_reg[\"Sales\"]"
      ]
    },
    {
      "cell_type": "markdown",
      "metadata": {
        "id": "PA21coxyWGQz"
      },
      "source": [
        "add constant for x"
      ]
    },
    {
      "cell_type": "code",
      "execution_count": 18,
      "metadata": {
        "colab": {
          "base_uri": "https://localhost:8080/"
        },
        "id": "FTmJmUvzWVpr",
        "outputId": "3964fc49-5968-434f-e82c-39381cdbf577"
      },
      "outputs": [],
      "source": [
        "x = sm.add_constant(x)"
      ]
    },
    {
      "cell_type": "markdown",
      "metadata": {
        "id": "LRS-O8dsWp6b"
      },
      "source": [
        "Create a model and fit it"
      ]
    },
    {
      "cell_type": "code",
      "execution_count": 19,
      "metadata": {
        "id": "6nseMONAWexd"
      },
      "outputs": [],
      "source": [
        "model = sm.OLS(y,x)"
      ]
    },
    {
      "cell_type": "code",
      "execution_count": 20,
      "metadata": {
        "id": "saRJ5MVrWu8b"
      },
      "outputs": [],
      "source": [
        "results = model.fit()"
      ]
    },
    {
      "cell_type": "markdown",
      "metadata": {
        "id": "_J9Hp6QgWrM_"
      },
      "source": [
        "Get results"
      ]
    },
    {
      "cell_type": "code",
      "execution_count": 21,
      "metadata": {
        "colab": {
          "base_uri": "https://localhost:8080/"
        },
        "id": "nhN7XqDjW11_",
        "outputId": "10023b0d-c3a9-49f0-9aa7-399db19a1ef5"
      },
      "outputs": [
        {
          "name": "stdout",
          "output_type": "stream",
          "text": [
            "                            OLS Regression Results                            \n",
            "==============================================================================\n",
            "Dep. Variable:                  Sales   R-squared:                       0.873\n",
            "Model:                            OLS   Adj. R-squared:                  0.870\n",
            "Method:                 Least Squares   F-statistic:                     243.4\n",
            "Date:                Fri, 28 Apr 2023   Prob (F-statistic):          1.60e-166\n",
            "Time:                        10:35:37   Log-Likelihood:                -568.99\n",
            "No. Observations:                 400   AIC:                             1162.\n",
            "Df Residuals:                     388   BIC:                             1210.\n",
            "Df Model:                          11                                         \n",
            "Covariance Type:            nonrobust                                         \n",
            "====================================================================================\n",
            "                       coef    std err          t      P>|t|      [0.025      0.975]\n",
            "------------------------------------------------------------------------------------\n",
            "const                5.6606      0.603      9.380      0.000       4.474       6.847\n",
            "CompPrice            0.0928      0.004     22.378      0.000       0.085       0.101\n",
            "Income               0.0158      0.002      8.565      0.000       0.012       0.019\n",
            "Advertising          0.1231      0.011     11.066      0.000       0.101       0.145\n",
            "Population           0.0002      0.000      0.561      0.575      -0.001       0.001\n",
            "Price               -0.0954      0.003    -35.700      0.000      -0.101      -0.090\n",
            "Age                 -0.0460      0.003    -14.472      0.000      -0.052      -0.040\n",
            "Education           -0.0211      0.020     -1.070      0.285      -0.060       0.018\n",
            "ShelveLoc_Good       4.8502      0.153     31.678      0.000       4.549       5.151\n",
            "ShelveLoc_Medium     1.9567      0.126     15.516      0.000       1.709       2.205\n",
            "Urban_Yes            0.1229      0.113      1.088      0.277      -0.099       0.345\n",
            "US_Yes              -0.1841      0.150     -1.229      0.220      -0.479       0.111\n",
            "==============================================================================\n",
            "Omnibus:                        0.811   Durbin-Watson:                   2.013\n",
            "Prob(Omnibus):                  0.667   Jarque-Bera (JB):                0.765\n",
            "Skew:                           0.107   Prob(JB):                        0.682\n",
            "Kurtosis:                       2.994   Cond. No.                     4.15e+03\n",
            "==============================================================================\n",
            "\n",
            "Notes:\n",
            "[1] Standard Errors assume that the covariance matrix of the errors is correctly specified.\n",
            "[2] The condition number is large, 4.15e+03. This might indicate that there are\n",
            "strong multicollinearity or other numerical problems.\n"
          ]
        }
      ],
      "source": [
        "print(results.summary())"
      ]
    },
    {
      "cell_type": "code",
      "execution_count": 22,
      "metadata": {
        "colab": {
          "base_uri": "https://localhost:8080/"
        },
        "id": "J7fqz120d2gB",
        "outputId": "e0b9982c-8c9b-4897-8e1b-4ad13fab4707"
      },
      "outputs": [
        {
          "data": {
            "text/plain": [
              "1161.9743520348259"
            ]
          },
          "execution_count": 22,
          "metadata": {},
          "output_type": "execute_result"
        }
      ],
      "source": [
        "results.aic"
      ]
    },
    {
      "cell_type": "markdown",
      "metadata": {
        "id": "l74eDBZmaVUr"
      },
      "source": [
        "# Model 2"
      ]
    },
    {
      "cell_type": "code",
      "execution_count": 23,
      "metadata": {
        "id": "MtUbI5oQYDWH"
      },
      "outputs": [],
      "source": [
        "x2 = data_reg[[\"CompPrice\",\"Income\",\"Advertising\",\"Price\",\"Age\",\"Education\",\"ShelveLoc_Good\",\"ShelveLoc_Medium\",\"Urban_Yes\",\"US_Yes\"]]\n",
        "y = data_reg[\"Sales\"]"
      ]
    },
    {
      "cell_type": "markdown",
      "metadata": {
        "id": "oQn8Eq5aalS-"
      },
      "source": [
        "add constant for x"
      ]
    },
    {
      "cell_type": "code",
      "execution_count": 24,
      "metadata": {
        "colab": {
          "base_uri": "https://localhost:8080/"
        },
        "id": "VpP8j-a5al7p",
        "outputId": "973e73fb-9b59-41d1-d686-1fc35bd269b2"
      },
      "outputs": [],
      "source": [
        "x2 = sm.add_constant(x2)"
      ]
    },
    {
      "cell_type": "markdown",
      "metadata": {
        "id": "x8dP4faaapp9"
      },
      "source": [
        "Create a model and fit it"
      ]
    },
    {
      "cell_type": "code",
      "execution_count": 25,
      "metadata": {
        "id": "1rb50BnRasmN"
      },
      "outputs": [],
      "source": [
        "model2 = sm.OLS(y, x2)"
      ]
    },
    {
      "cell_type": "code",
      "execution_count": 26,
      "metadata": {
        "id": "t3MV7Vbbavlf"
      },
      "outputs": [],
      "source": [
        "results2 = model2.fit()"
      ]
    },
    {
      "cell_type": "markdown",
      "metadata": {
        "id": "Vt7cqLmia4GR"
      },
      "source": [
        "Get results"
      ]
    },
    {
      "cell_type": "code",
      "execution_count": 27,
      "metadata": {
        "colab": {
          "base_uri": "https://localhost:8080/"
        },
        "id": "naDCT4C4a4wN",
        "outputId": "33e9840e-77d1-4369-9c66-fb357241a5aa"
      },
      "outputs": [
        {
          "name": "stdout",
          "output_type": "stream",
          "text": [
            "                            OLS Regression Results                            \n",
            "==============================================================================\n",
            "Dep. Variable:                  Sales   R-squared:                       0.873\n",
            "Model:                            OLS   Adj. R-squared:                  0.870\n",
            "Method:                 Least Squares   F-statistic:                     268.2\n",
            "Date:                Fri, 28 Apr 2023   Prob (F-statistic):          1.11e-167\n",
            "Time:                        10:35:38   Log-Likelihood:                -569.15\n",
            "No. Observations:                 400   AIC:                             1160.\n",
            "Df Residuals:                     389   BIC:                             1204.\n",
            "Df Model:                          10                                         \n",
            "Covariance Type:            nonrobust                                         \n",
            "====================================================================================\n",
            "                       coef    std err          t      P>|t|      [0.025      0.975]\n",
            "------------------------------------------------------------------------------------\n",
            "const                5.7619      0.575     10.015      0.000       4.631       6.893\n",
            "CompPrice            0.0926      0.004     22.436      0.000       0.084       0.101\n",
            "Income               0.0158      0.002      8.560      0.000       0.012       0.019\n",
            "Advertising          0.1250      0.011     11.844      0.000       0.104       0.146\n",
            "Price               -0.0953      0.003    -35.736      0.000      -0.101      -0.090\n",
            "Age                 -0.0461      0.003    -14.520      0.000      -0.052      -0.040\n",
            "Education           -0.0224      0.020     -1.145      0.253      -0.061       0.016\n",
            "ShelveLoc_Good       4.8467      0.153     31.709      0.000       4.546       5.147\n",
            "ShelveLoc_Medium     1.9521      0.126     15.526      0.000       1.705       2.199\n",
            "Urban_Yes            0.1189      0.113      1.055      0.292      -0.103       0.340\n",
            "US_Yes              -0.1991      0.147     -1.351      0.177      -0.489       0.091\n",
            "==============================================================================\n",
            "Omnibus:                        0.899   Durbin-Watson:                   2.016\n",
            "Prob(Omnibus):                  0.638   Jarque-Bera (JB):                0.826\n",
            "Skew:                           0.111   Prob(JB):                        0.662\n",
            "Kurtosis:                       3.012   Cond. No.                     2.19e+03\n",
            "==============================================================================\n",
            "\n",
            "Notes:\n",
            "[1] Standard Errors assume that the covariance matrix of the errors is correctly specified.\n",
            "[2] The condition number is large, 2.19e+03. This might indicate that there are\n",
            "strong multicollinearity or other numerical problems.\n"
          ]
        }
      ],
      "source": [
        "print(results2.summary())"
      ]
    },
    {
      "cell_type": "markdown",
      "metadata": {
        "id": "b5Dv24hObHbh"
      },
      "source": [
        "# Model 3"
      ]
    },
    {
      "cell_type": "code",
      "execution_count": 28,
      "metadata": {
        "id": "ydbC5gLUbI3E"
      },
      "outputs": [],
      "source": [
        "x3 = data_reg[[\"CompPrice\",\"Income\",\"Advertising\",\"Price\",\"Age\",\"Education\",\"ShelveLoc_Good\",\"ShelveLoc_Medium\",\"US_Yes\"]]\n",
        "y = data_reg[\"Sales\"]"
      ]
    },
    {
      "cell_type": "markdown",
      "metadata": {
        "id": "RuczbYJwbS9U"
      },
      "source": [
        "add constant for x"
      ]
    },
    {
      "cell_type": "code",
      "execution_count": 29,
      "metadata": {
        "colab": {
          "base_uri": "https://localhost:8080/"
        },
        "id": "HrIqBhF8bQx4",
        "outputId": "f48b06d9-7cfe-457c-d142-36e301ab4456"
      },
      "outputs": [],
      "source": [
        "x3 = sm.add_constant(x3)"
      ]
    },
    {
      "cell_type": "markdown",
      "metadata": {
        "id": "zZlmsUK6bfE_"
      },
      "source": [
        "Create a model and fit it"
      ]
    },
    {
      "cell_type": "code",
      "execution_count": 30,
      "metadata": {
        "id": "oB_Y6PHfbccB"
      },
      "outputs": [],
      "source": [
        "model3 = sm.OLS(y, x3)"
      ]
    },
    {
      "cell_type": "code",
      "execution_count": 31,
      "metadata": {
        "id": "rzX5a_QCbinD"
      },
      "outputs": [],
      "source": [
        "results3 = model3.fit()"
      ]
    },
    {
      "cell_type": "markdown",
      "metadata": {
        "id": "-dblKjg8blNj"
      },
      "source": [
        "Get results"
      ]
    },
    {
      "cell_type": "code",
      "execution_count": 32,
      "metadata": {
        "colab": {
          "base_uri": "https://localhost:8080/"
        },
        "id": "OeL5J9apbnaN",
        "outputId": "558ba3cf-2095-4ec7-bcbf-9f91f658589f"
      },
      "outputs": [
        {
          "name": "stdout",
          "output_type": "stream",
          "text": [
            "                            OLS Regression Results                            \n",
            "==============================================================================\n",
            "Dep. Variable:                  Sales   R-squared:                       0.873\n",
            "Model:                            OLS   Adj. R-squared:                  0.870\n",
            "Method:                 Least Squares   F-statistic:                     297.7\n",
            "Date:                Fri, 28 Apr 2023   Prob (F-statistic):          1.09e-168\n",
            "Time:                        10:35:38   Log-Likelihood:                -569.72\n",
            "No. Observations:                 400   AIC:                             1159.\n",
            "Df Residuals:                     390   BIC:                             1199.\n",
            "Df Model:                           9                                         \n",
            "Covariance Type:            nonrobust                                         \n",
            "====================================================================================\n",
            "                       coef    std err          t      P>|t|      [0.025      0.975]\n",
            "------------------------------------------------------------------------------------\n",
            "const                5.8140      0.573     10.142      0.000       4.687       6.941\n",
            "CompPrice            0.0929      0.004     22.529      0.000       0.085       0.101\n",
            "Income               0.0158      0.002      8.598      0.000       0.012       0.019\n",
            "Advertising          0.1253      0.011     11.868      0.000       0.105       0.146\n",
            "Price               -0.0953      0.003    -35.721      0.000      -0.101      -0.090\n",
            "Age                 -0.0460      0.003    -14.488      0.000      -0.052      -0.040\n",
            "Education           -0.0231      0.020     -1.180      0.239      -0.062       0.015\n",
            "ShelveLoc_Good       4.8339      0.152     31.721      0.000       4.534       5.133\n",
            "ShelveLoc_Medium     1.9422      0.125     15.489      0.000       1.696       2.189\n",
            "US_Yes              -0.1968      0.147     -1.336      0.182      -0.486       0.093\n",
            "==============================================================================\n",
            "Omnibus:                        0.872   Durbin-Watson:                   2.009\n",
            "Prob(Omnibus):                  0.647   Jarque-Bera (JB):                0.832\n",
            "Skew:                           0.112   Prob(JB):                        0.660\n",
            "Kurtosis:                       2.989   Cond. No.                     2.18e+03\n",
            "==============================================================================\n",
            "\n",
            "Notes:\n",
            "[1] Standard Errors assume that the covariance matrix of the errors is correctly specified.\n",
            "[2] The condition number is large, 2.18e+03. This might indicate that there are\n",
            "strong multicollinearity or other numerical problems.\n"
          ]
        }
      ],
      "source": [
        "print(results3.summary())"
      ]
    },
    {
      "cell_type": "markdown",
      "metadata": {
        "id": "ijhKVFGFbyCt"
      },
      "source": [
        "# Model 4"
      ]
    },
    {
      "cell_type": "code",
      "execution_count": 33,
      "metadata": {
        "id": "Uk_hQFZ3b0py"
      },
      "outputs": [],
      "source": [
        "x4 = data_reg[[\"CompPrice\",\"Income\",\"Advertising\",\"Price\",\"Age\",\"ShelveLoc_Good\",\"ShelveLoc_Medium\",\"US_Yes\"]]\n",
        "y = data_reg[\"Sales\"]"
      ]
    },
    {
      "cell_type": "markdown",
      "metadata": {
        "id": "0CpR-1MwcAh5"
      },
      "source": [
        "add constant for x"
      ]
    },
    {
      "cell_type": "code",
      "execution_count": 34,
      "metadata": {
        "colab": {
          "base_uri": "https://localhost:8080/"
        },
        "id": "XeblI61Tb-Po",
        "outputId": "6eca34ed-8179-4779-8730-8f6f3d4e4f07"
      },
      "outputs": [],
      "source": [
        "x4 = sm.add_constant(x4)"
      ]
    },
    {
      "cell_type": "markdown",
      "metadata": {
        "id": "otOX0dVscGrD"
      },
      "source": [
        "Create a model and fit it"
      ]
    },
    {
      "cell_type": "code",
      "execution_count": 35,
      "metadata": {
        "id": "bOeELZn0cKJ7"
      },
      "outputs": [],
      "source": [
        "model4 = sm.OLS(y, x4)"
      ]
    },
    {
      "cell_type": "code",
      "execution_count": 36,
      "metadata": {
        "id": "viNbMKcUcM79"
      },
      "outputs": [],
      "source": [
        "results4 = model4.fit()"
      ]
    },
    {
      "cell_type": "markdown",
      "metadata": {
        "id": "eqaoNQ6-cQnR"
      },
      "source": [
        "Get results"
      ]
    },
    {
      "cell_type": "code",
      "execution_count": 37,
      "metadata": {
        "colab": {
          "base_uri": "https://localhost:8080/"
        },
        "id": "gJOXxl4EcQUN",
        "outputId": "39d063b4-a35e-4754-c7ca-6eb897a76d7b"
      },
      "outputs": [
        {
          "name": "stdout",
          "output_type": "stream",
          "text": [
            "                            OLS Regression Results                            \n",
            "==============================================================================\n",
            "Dep. Variable:                  Sales   R-squared:                       0.872\n",
            "Model:                            OLS   Adj. R-squared:                  0.870\n",
            "Method:                 Least Squares   F-statistic:                     334.4\n",
            "Date:                Fri, 28 Apr 2023   Prob (F-statistic):          1.16e-169\n",
            "Time:                        10:35:38   Log-Likelihood:                -570.43\n",
            "No. Observations:                 400   AIC:                             1159.\n",
            "Df Residuals:                     391   BIC:                             1195.\n",
            "Df Model:                           8                                         \n",
            "Covariance Type:            nonrobust                                         \n",
            "====================================================================================\n",
            "                       coef    std err          t      P>|t|      [0.025      0.975]\n",
            "------------------------------------------------------------------------------------\n",
            "const                5.4928      0.505     10.880      0.000       4.500       6.485\n",
            "CompPrice            0.0928      0.004     22.498      0.000       0.085       0.101\n",
            "Income               0.0159      0.002      8.662      0.000       0.012       0.020\n",
            "Advertising          0.1249      0.011     11.833      0.000       0.104       0.146\n",
            "Price               -0.0953      0.003    -35.703      0.000      -0.101      -0.090\n",
            "Age                 -0.0460      0.003    -14.493      0.000      -0.052      -0.040\n",
            "ShelveLoc_Good       4.8388      0.152     31.749      0.000       4.539       5.138\n",
            "ShelveLoc_Medium     1.9440      0.125     15.496      0.000       1.697       2.191\n",
            "US_Yes              -0.1842      0.147     -1.253      0.211      -0.473       0.105\n",
            "==============================================================================\n",
            "Omnibus:                        0.635   Durbin-Watson:                   1.998\n",
            "Prob(Omnibus):                  0.728   Jarque-Bera (JB):                0.692\n",
            "Skew:                           0.094   Prob(JB):                        0.707\n",
            "Kurtosis:                       2.921   Cond. No.                     1.91e+03\n",
            "==============================================================================\n",
            "\n",
            "Notes:\n",
            "[1] Standard Errors assume that the covariance matrix of the errors is correctly specified.\n",
            "[2] The condition number is large, 1.91e+03. This might indicate that there are\n",
            "strong multicollinearity or other numerical problems.\n"
          ]
        }
      ],
      "source": [
        "print(results4.summary())"
      ]
    },
    {
      "cell_type": "markdown",
      "metadata": {
        "id": "pUwpco0BcnHT"
      },
      "source": [
        "# Model 5"
      ]
    },
    {
      "cell_type": "code",
      "execution_count": 38,
      "metadata": {
        "id": "xkF1EQwocouk"
      },
      "outputs": [],
      "source": [
        "x5 = data_reg[[\"CompPrice\",\"Income\",\"Advertising\",\"Price\",\"Age\",\"ShelveLoc_Good\",\"ShelveLoc_Medium\"]]\n",
        "y = data_reg[\"Sales\"]"
      ]
    },
    {
      "cell_type": "markdown",
      "metadata": {
        "id": "iC9TyOJ2dD9J"
      },
      "source": [
        "add constant for x"
      ]
    },
    {
      "cell_type": "code",
      "execution_count": 39,
      "metadata": {
        "colab": {
          "base_uri": "https://localhost:8080/"
        },
        "id": "A6iKs51RdEfP",
        "outputId": "386b5f1e-4dce-4ae2-ed3f-d9ad2f9c5a29"
      },
      "outputs": [],
      "source": [
        "x5 = sm.add_constant(x5)"
      ]
    },
    {
      "cell_type": "markdown",
      "metadata": {
        "id": "8S2VxvC6dLC0"
      },
      "source": [
        "Create a model and fit it"
      ]
    },
    {
      "cell_type": "code",
      "execution_count": 40,
      "metadata": {
        "id": "2ZmNbSPJdKwg"
      },
      "outputs": [],
      "source": [
        "model5 = sm.OLS(y, x5)"
      ]
    },
    {
      "cell_type": "code",
      "execution_count": 41,
      "metadata": {
        "id": "-Q7tr0FydUif"
      },
      "outputs": [],
      "source": [
        "results5 = model5.fit()"
      ]
    },
    {
      "cell_type": "markdown",
      "metadata": {
        "id": "_u8rd-lcdaiH"
      },
      "source": [
        "Get results"
      ]
    },
    {
      "cell_type": "code",
      "execution_count": 42,
      "metadata": {
        "colab": {
          "base_uri": "https://localhost:8080/"
        },
        "id": "NzVs_-Ohda53",
        "outputId": "cd3c8841-02cc-427e-bac9-7bcc319fdfeb"
      },
      "outputs": [
        {
          "name": "stdout",
          "output_type": "stream",
          "text": [
            "                            OLS Regression Results                            \n",
            "==============================================================================\n",
            "Dep. Variable:                  Sales   R-squared:                       0.872\n",
            "Model:                            OLS   Adj. R-squared:                  0.870\n",
            "Method:                 Least Squares   F-statistic:                     381.4\n",
            "Date:                Fri, 28 Apr 2023   Prob (F-statistic):          1.25e-170\n",
            "Time:                        10:35:39   Log-Likelihood:                -571.24\n",
            "No. Observations:                 400   AIC:                             1158.\n",
            "Df Residuals:                     392   BIC:                             1190.\n",
            "Df Model:                           7                                         \n",
            "Covariance Type:            nonrobust                                         \n",
            "====================================================================================\n",
            "                       coef    std err          t      P>|t|      [0.025      0.975]\n",
            "------------------------------------------------------------------------------------\n",
            "const                5.4752      0.505     10.842      0.000       4.482       6.468\n",
            "CompPrice            0.0926      0.004     22.451      0.000       0.084       0.101\n",
            "Income               0.0158      0.002      8.590      0.000       0.012       0.019\n",
            "Advertising          0.1159      0.008     15.006      0.000       0.101       0.131\n",
            "Price               -0.0953      0.003    -35.699      0.000      -0.101      -0.090\n",
            "Age                 -0.0461      0.003    -14.521      0.000      -0.052      -0.040\n",
            "ShelveLoc_Good       4.8357      0.152     31.710      0.000       4.536       5.135\n",
            "ShelveLoc_Medium     1.9520      0.125     15.569      0.000       1.706       2.198\n",
            "==============================================================================\n",
            "Omnibus:                        0.766   Durbin-Watson:                   1.988\n",
            "Prob(Omnibus):                  0.682   Jarque-Bera (JB):                0.810\n",
            "Skew:                           0.104   Prob(JB):                        0.667\n",
            "Kurtosis:                       2.929   Cond. No.                     1.91e+03\n",
            "==============================================================================\n",
            "\n",
            "Notes:\n",
            "[1] Standard Errors assume that the covariance matrix of the errors is correctly specified.\n",
            "[2] The condition number is large, 1.91e+03. This might indicate that there are\n",
            "strong multicollinearity or other numerical problems.\n"
          ]
        }
      ],
      "source": [
        "print(results5.summary())"
      ]
    },
    {
      "cell_type": "markdown",
      "metadata": {
        "id": "tmcO5TDJdjOT"
      },
      "source": [
        "# Model Selection "
      ]
    },
    {
      "cell_type": "code",
      "execution_count": 43,
      "metadata": {
        "id": "a79ujw2-dmGz"
      },
      "outputs": [],
      "source": [
        "select = {'AIC':[results.aic, results2.aic, results3.aic, results4.aic, results5.aic],\n",
        "        'BIC':[results.bic, results2.bic, results3.bic, results4.bic, results5.bic]}"
      ]
    },
    {
      "cell_type": "code",
      "execution_count": 44,
      "metadata": {
        "id": "nhFrOy-hehcn"
      },
      "outputs": [],
      "source": [
        "df = pd.DataFrame(select)"
      ]
    },
    {
      "cell_type": "code",
      "execution_count": 45,
      "metadata": {
        "colab": {
          "base_uri": "https://localhost:8080/"
        },
        "id": "ftTIFrcoekt3",
        "outputId": "89d704e3-a813-4b16-cb1c-ff6cf999eeeb"
      },
      "outputs": [
        {
          "name": "stdout",
          "output_type": "stream",
          "text": [
            "           AIC          BIC\n",
            "0  1161.974352  1209.871927\n",
            "1  1160.298835  1204.204945\n",
            "2  1159.441881  1199.356527\n",
            "3  1158.868065  1194.791246\n",
            "4  1158.470309  1190.402025\n"
          ]
        }
      ],
      "source": [
        "print(df)"
      ]
    },
    {
      "cell_type": "markdown",
      "metadata": {
        "id": "oHUYEcCLeyKN"
      },
      "source": [
        "Dipilih model terbaik adalah model ke 5 karena nilai AIC dan BIC terendah "
      ]
    },
    {
      "cell_type": "markdown",
      "metadata": {
        "id": "56OlROHYgNna"
      },
      "source": [
        "# Diagnostic Checking pada Model ke 5\n",
        "1. Fix independen variabel: diasumsikan\n",
        "terpenuhi\n",
        "2. Linearitas dependen dengan independen\n",
        "Untuk mengetahui ada tidaknya hubungan\n",
        "linear antara variabel independen dengan\n",
        "variabel dependen.\n",
        "3. Normalitas residual\n",
        "Untuk mengetahui residual berdistribusi\n",
        "normal atau tidak\n",
        "4. Homoskedastisitas\n",
        "Kondisi dimana variansi konstan. Terpenuhi\n",
        "jika variansi residual konstan, dilihat dari plot\n",
        "z resid by z pred.\n",
        "Dikatakan homoskedastisitas jika titik-titik\n",
        "mendekati nol dan tidak membentuk pola.\n",
        "5. No multikolinearitas\n",
        "Kondisi dimana tidak ada hubungan antar\n",
        "variabel independen. Terpenuhi jika VIF< 10\n",
        "dan TOL > 0,1 (lihat di tabel coefficients)\n",
        "6. No autokorelasi\n",
        "Kondisi dimana tidak ada korelasi antar eror. "
      ]
    },
    {
      "cell_type": "code",
      "execution_count": 46,
      "metadata": {
        "colab": {
          "base_uri": "https://localhost:8080/"
        },
        "id": "Xz_3FP_ygU-M",
        "outputId": "357d08b2-7dd4-4a93-c7a0-4bfeaf30849c"
      },
      "outputs": [
        {
          "name": "stdout",
          "output_type": "stream",
          "text": [
            "NormaltestResult(statistic=0.7655306307630756, pvalue=0.6819729290636511) \n",
            "\n",
            "Pvalue > 0.05, fail to reject H0, Residuals are normally distributed\n"
          ]
        }
      ],
      "source": [
        "#Normalitas Residual\n",
        "\n",
        "'''\n",
        "H0  : Residuals are normally distributed\n",
        "H1  : Residuals are not normally distributed\n",
        "Rejet H0 if P-Value < alpha = 0,05\n",
        "'''\n",
        "alpha = 0.05\n",
        "name = ['Chi^2', 'Two-tail probability']\n",
        "test = sm.stats.omni_normtest(results5.resid)\n",
        "print(test,'\\n')\n",
        "\n",
        "if test.pvalue < 0.05 :\n",
        "  print('Pvalue < 0.05, reject H0, Residuals are not normally distributed')\n",
        "else  :\n",
        "  print ('Pvalue > 0.05, fail to reject H0, Residuals are normally distributed')"
      ]
    },
    {
      "cell_type": "code",
      "execution_count": 47,
      "metadata": {
        "colab": {
          "base_uri": "https://localhost:8080/",
          "height": 295
        },
        "id": "-oiSl7-qjf1G",
        "outputId": "34e10932-20ac-4570-efb3-9602d7ff90d2"
      },
      "outputs": [
        {
          "data": {
            "image/png": "[encoded data removed]",
            "text/plain": [
              "<Figure size 640x480 with 1 Axes>"
            ]
          },
          "metadata": {},
          "output_type": "display_data"
        }
      ],
      "source": [
        "#Homoskedastistas\n",
        "\n",
        "# fitted values\n",
        "model_fitted_y = results5.fittedvalues\n",
        "\n",
        "#  Plot\n",
        "plot = sns.residplot(x=model_fitted_y, y='Sales', data=data_reg, lowess=True, \n",
        "                     scatter_kws={'alpha': 0.5}, \n",
        "                     line_kws={'color': 'red', 'lw': 1, 'alpha': 0.8})\n",
        "\n",
        "# Titel and labels\n",
        "plot.set_title('Residuals vs Fitted')\n",
        "plot.set_xlabel('Fitted values')\n",
        "plot.set_ylabel('Residuals');\n",
        "\n",
        "#karena titik berada disekitar garis 0 dan tersebar secara random, maka dikatakan asumsi homoskedastisitas terpenuhi"
      ]
    },
    {
      "cell_type": "code",
      "execution_count": 48,
      "metadata": {
        "colab": {
          "base_uri": "https://localhost:8080/",
          "height": 174
        },
        "id": "H0pXHUalkU9Z",
        "outputId": "feca9d7c-eb74-41e8-c923-b783d9782dc0"
      },
      "outputs": [
        {
          "name": "stdout",
          "output_type": "stream",
          "text": [
            "            feature        VIF\n",
            "0         CompPrice  53.049570\n",
            "1            Income   6.390116\n",
            "2       Advertising   2.004628\n",
            "3             Price  38.288755\n",
            "4               Age   9.982259\n",
            "5    ShelveLoc_Good   1.878286\n",
            "6  ShelveLoc_Medium   3.243449\n"
          ]
        },
        {
          "data": {
            "text/plain": [
              "'\\nDapat disimpulkan bahwa asumsi No Multikolinearitas tidak terpenuhi\\n'"
            ]
          },
          "execution_count": 48,
          "metadata": {},
          "output_type": "execute_result"
        }
      ],
      "source": [
        "#No multikolinearitas\n",
        "from statsmodels.stats.outliers_influence import variance_inflation_factor\n",
        "\n",
        "# VIF dataframe\n",
        "vif_data = pd.DataFrame()\n",
        "vif_data[\"feature\"] = data_reg[[\"CompPrice\",\"Income\",\"Advertising\",\"Price\",\"Age\",\"ShelveLoc_Good\",\"ShelveLoc_Medium\"]].columns\n",
        "\n",
        "# calculating VIF for each feature\n",
        "vif_data[\"VIF\"] = [variance_inflation_factor(data_reg[[\"CompPrice\",\"Income\",\"Advertising\",\"Price\",\"Age\",\"ShelveLoc_Good\",\"ShelveLoc_Medium\"]].values, i)\n",
        "                          for i in range(len(data_reg[[\"CompPrice\",\"Income\",\"Advertising\",\"Price\",\"Age\",\"ShelveLoc_Good\",\"ShelveLoc_Medium\"]].columns))]\n",
        "  \n",
        "print(vif_data)\n",
        "\n",
        "'''\n",
        "Dapat disimpulkan bahwa asumsi No Multikolinearitas tidak terpenuhi\n",
        "'''"
      ]
    },
    {
      "cell_type": "code",
      "execution_count": 50,
      "metadata": {
        "colab": {
          "base_uri": "https://localhost:8080/",
          "height": 35
        },
        "id": "TqYjRO-rnMnH",
        "outputId": "263b0ddc-c8aa-4411-da7b-ac4d4050832b"
      },
      "outputs": [
        {
          "data": {
            "text/plain": [
              "1.988165390700888"
            ]
          },
          "execution_count": 50,
          "metadata": {},
          "output_type": "execute_result"
        }
      ],
      "source": [
        "#No Autokorelasi\n",
        "sm.stats.durbin_watson(results5.resid)\n"
      ]
    },
    {
      "cell_type": "code",
      "execution_count": 51,
      "metadata": {},
      "outputs": [
        {
          "data": {
            "text/plain": [
              "'\\nDapat disimpulkan bahwa asumsi No Autokorelasi terpenuhi. \\n'"
            ]
          },
          "execution_count": 51,
          "metadata": {},
          "output_type": "execute_result"
        }
      ],
      "source": [
        "'''\n",
        "Dapat disimpulkan bahwa asumsi No Autokorelasi terpenuhi. \n",
        "'''\n"
      ]
    }
  ],
  "metadata": {
    "colab": {
      "provenance": []
    },
    "kernelspec": {
      "display_name": "Python 3",
      "name": "python3"
    },
    "language_info": {
      "codemirror_mode": {
        "name": "ipython",
        "version": 3
      },
      "file_extension": ".py",
      "mimetype": "text/x-python",
      "name": "python",
      "nbconvert_exporter": "python",
      "pygments_lexer": "ipython3",
      "version": "3.10.0"
    }
  },
  "nbformat": 4,
  "nbformat_minor": 0
}
