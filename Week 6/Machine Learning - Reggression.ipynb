{
 "cells": [
  {
   "cell_type": "markdown",
   "metadata": {},
   "source": [
    "Regression is a statistical method used to establish a relationship between one or more independent variables (also known as predictors, features, or inputs) and a dependent variable (also known as the outcome, target, or response). The main goal of regression analysis is to predict the value of the dependent variable based on the values of the independent variables.\n",
    "\n",
    "Regression models can be used for various purposes, such as forecasting future trends, understanding the relationships between variables, and making predictions. Regression analysis is widely used in various fields such as economics, finance, psychology, engineering, and social sciences.\n",
    "\n",
    "There are several types of regression models, including:\n",
    "\n",
    " - Simple linear regression: \n",
    "    This is the simplest form of regression, where one independent variable is used to predict a dependent variable. It assumes that there is a linear relationship between the two variables.\n",
    "\n",
    "- Multiple linear regression:\n",
    "    This type of regression involves two or more independent variables to predict a dependent variable. It is useful when there are multiple factors that can affect the outcome.\n",
    "\n",
    "- Polynomial regression:\n",
    "    This type of regression involves fitting a polynomial equation to the data. It is useful when the relationship between the variables is not linear.\n",
    "\n",
    "- Logistic regression:\n",
    "    This type of regression is used when the dependent variable is categorical. It is used to predict the probability of an event occurring.\n",
    "\n",
    "- Ridge regression:\n",
    "    This is a type of regression that is used when there is multicollinearity in the data. It adds a penalty term to the regression equation to reduce the impact of correlated variables.\n",
    "\n",
    "Regression analysis involves several steps, including data collection, data cleaning, variable selection, model building, model validation, and interpretation of results. The accuracy of the regression model can be measured using various metrics such as R-squared, Mean squared error (MSE), Root Mean Squared Error (RMSE), and Mean Absolute Error (MAE).\n",
    "\n",
    "In summary, regression is a statistical method used to establish a relationship between independent variables and a dependent variable to make predictions and understand the relationships between variables."
   ]
  },
  {
   "cell_type": "markdown",
   "metadata": {},
   "source": [
    "# **DataSet**"
   ]
  },
  {
   "cell_type": "code",
   "execution_count": 3,
   "metadata": {},
   "outputs": [],
   "source": [
    "import pandas as pd\n",
    "import numpy as np\n",
    "import matplotlib.pyplot as plt\n",
    "%matplotlib inline\n",
    "pd.set_option('display.max_columns', 500)\n",
    "pd.set_option('display.width', 1000)"
   ]
  },
  {
   "cell_type": "code",
   "execution_count": 5,
   "metadata": {},
   "outputs": [],
   "source": [
    "from sklearn.datasets import load_diabetes"
   ]
  },
  {
   "cell_type": "code",
   "execution_count": 14,
   "metadata": {},
   "outputs": [],
   "source": [
    "diabetes = load_diabetes(scaled=False)\n",
    "dataset = pd.DataFrame(diabetes.data, columns=diabetes.feature_names)"
   ]
  },
  {
   "cell_type": "markdown",
   "metadata": {},
   "source": [
    "Variable descriptions on the diabetes dataset from scikit-learn\n",
    "\n",
    "- $age$     = Age in years\n",
    "- $sex$     = Sex\n",
    "- $bmi$     = body mass index\n",
    "- $bp$      = average blood pressure\n",
    "- $s1$      = tc, total serum cholesterol\n",
    "- $s2$      = ldl, low-density lipoproteins\n",
    "- $s3$      = hdl, high-density lipoproteins\n",
    "- $s4$      = tch, total cholesterol / HDL\n",
    "- $s5$      = ltg, possibly log of serum triglycerides level\n",
    "- $s6$      = glu, blood sugar level\n"
   ]
  },
  {
   "cell_type": "markdown",
   "metadata": {},
   "source": [
    "## *Train and Test Split*"
   ]
  },
  {
   "cell_type": "code",
   "execution_count": 62,
   "metadata": {},
   "outputs": [],
   "source": [
    "X_train, X_test, y_train, y_test = train_test_split(dataset, diabetes.target, test_size=0.1, random_state=42)"
   ]
  },
  {
   "cell_type": "code",
   "execution_count": 63,
   "metadata": {},
   "outputs": [
    {
     "name": "stdout",
     "output_type": "stream",
     "text": [
      "Training set shape: (397, 10) (397,)\n",
      "Testing set shape: (45, 10) (45,)\n"
     ]
    }
   ],
   "source": [
    "print(\"Training set shape:\", X_train.shape, y_train.shape)\n",
    "print(\"Testing set shape:\", X_test.shape, y_test.shape)"
   ]
  },
  {
   "cell_type": "markdown",
   "metadata": {},
   "source": [
    "# **Linear Regression**"
   ]
  },
  {
   "cell_type": "markdown",
   "metadata": {},
   "source": [
    "## *Scratch*"
   ]
  },
  {
   "cell_type": "code",
   "execution_count": 2,
   "metadata": {},
   "outputs": [],
   "source": [
    "import numpy as np\n",
    "import pandas as pd\n",
    "from sklearn.model_selection import train_test_split\n"
   ]
  },
  {
   "cell_type": "code",
   "execution_count": 67,
   "metadata": {},
   "outputs": [],
   "source": [
    "class LinearRegression:\n",
    "    def __init__(self, fit_intercept=True, method='normal'):\n",
    "        self.fit_intercept = fit_intercept\n",
    "        self.coef_ = None\n",
    "        self.intercept_ = None\n",
    "        self.method = method\n",
    "\n",
    "    def fit(self, X, y, learning_rate=0.01, n_iter=100):\n",
    "            if self.fit_intercept:\n",
    "                X = np.c_[np.ones(X.shape[0]), X]\n",
    "            \n",
    "            if self.method == 'normal':\n",
    "                self.coef_ = np.linalg.inv(X.T @ X) @ X.T @ y\n",
    "                if self.fit_intercept:\n",
    "                    self.intercept_ = self.coef_[0]\n",
    "                    self.coef_ = self.coef_[1:]\n",
    "            elif self.method == 'gradient':\n",
    "                n_samples, n_features = X.shape\n",
    "                self.coef_ = np.random.randn(n_features)\n",
    "                if self.fit_intercept:\n",
    "                    self.intercept_ = np.random.randn()\n",
    "                \n",
    "                for i in range(n_iter):\n",
    "                    y_pred = X @ self.coef_ + self.intercept_\n",
    "                    mse = np.mean((y - y_pred)**2)\n",
    "                    gradient = -2/n_samples * X.T @ (y - y_pred)\n",
    "                    self.coef_ = self.coef_ - learning_rate * gradient[1:]\n",
    "                    if self.fit_intercept:\n",
    "                        self.intercept_ = self.intercept_ - learning_rate * gradient[0]\n",
    "\n",
    "    def predict(self, X):\n",
    "        if self.fit_intercept:\n",
    "            X = np.c_[np.ones(X.shape[0]), X]\n",
    "        return X @ self.coef_"
   ]
  },
  {
   "cell_type": "code",
   "execution_count": 65,
   "metadata": {},
   "outputs": [],
   "source": [
    "def mean_squared_error(y_true, y_pred):\n",
    "    return np.mean((y_true - y_pred)**2)\n",
    "\n",
    "def r2_score(y_true, y_pred):\n",
    "    mean_y = np.mean(y_true)\n",
    "    ss_tot = np.sum((y_true - mean_y)**2)\n",
    "    ss_res = np.sum((y_true - y_pred)**2)\n",
    "    return 1 - ss_res / ss_tot"
   ]
  },
  {
   "cell_type": "code",
   "execution_count": 68,
   "metadata": {},
   "outputs": [
    {
     "ename": "ValueError",
     "evalue": "matmul: Input operand 1 has a mismatch in its core dimension 0, with gufunc signature (n?,k),(k,m?)->(n?,m?) (size 10 is different from 11)",
     "output_type": "error",
     "traceback": [
      "\u001b[1;31m---------------------------------------------------------------------------\u001b[0m",
      "\u001b[1;31mValueError\u001b[0m                                Traceback (most recent call last)",
      "\u001b[1;32mg:\\#Work\\Asisiten Praktikum\\Komstat 2 2023\\Statistical-Computation-2-Course-Material\\Week 6\\Machine Learning - Reggression.ipynb Cell 15\u001b[0m in \u001b[0;36m<cell line: 5>\u001b[1;34m()\u001b[0m\n\u001b[0;32m      <a href='vscode-notebook-cell:/g%3A/%23Work/Asisiten%20Praktikum/Komstat%202%202023/Statistical-Computation-2-Course-Material/Week%206/Machine%20Learning%20-%20Reggression.ipynb#X33sZmlsZQ%3D%3D?line=1'>2</a>\u001b[0m reg\u001b[39m.\u001b[39mfit(X_train, y_train)\n\u001b[0;32m      <a href='vscode-notebook-cell:/g%3A/%23Work/Asisiten%20Praktikum/Komstat%202%202023/Statistical-Computation-2-Course-Material/Week%206/Machine%20Learning%20-%20Reggression.ipynb#X33sZmlsZQ%3D%3D?line=3'>4</a>\u001b[0m \u001b[39m# Use the fitted model to make predictions on the test data\u001b[39m\n\u001b[1;32m----> <a href='vscode-notebook-cell:/g%3A/%23Work/Asisiten%20Praktikum/Komstat%202%202023/Statistical-Computation-2-Course-Material/Week%206/Machine%20Learning%20-%20Reggression.ipynb#X33sZmlsZQ%3D%3D?line=4'>5</a>\u001b[0m y_pred \u001b[39m=\u001b[39m reg\u001b[39m.\u001b[39;49mpredict(X_test)\n\u001b[0;32m      <a href='vscode-notebook-cell:/g%3A/%23Work/Asisiten%20Praktikum/Komstat%202%202023/Statistical-Computation-2-Course-Material/Week%206/Machine%20Learning%20-%20Reggression.ipynb#X33sZmlsZQ%3D%3D?line=7'>8</a>\u001b[0m \u001b[39m# Calculate the mean squared error and R^2 score\u001b[39m\n\u001b[0;32m      <a href='vscode-notebook-cell:/g%3A/%23Work/Asisiten%20Praktikum/Komstat%202%202023/Statistical-Computation-2-Course-Material/Week%206/Machine%20Learning%20-%20Reggression.ipynb#X33sZmlsZQ%3D%3D?line=8'>9</a>\u001b[0m mse \u001b[39m=\u001b[39m mean_squared_error(y_test, y_pred)\n",
      "\u001b[1;32mg:\\#Work\\Asisiten Praktikum\\Komstat 2 2023\\Statistical-Computation-2-Course-Material\\Week 6\\Machine Learning - Reggression.ipynb Cell 15\u001b[0m in \u001b[0;36mLinearRegression.predict\u001b[1;34m(self, X)\u001b[0m\n\u001b[0;32m     <a href='vscode-notebook-cell:/g%3A/%23Work/Asisiten%20Praktikum/Komstat%202%202023/Statistical-Computation-2-Course-Material/Week%206/Machine%20Learning%20-%20Reggression.ipynb#X33sZmlsZQ%3D%3D?line=31'>32</a>\u001b[0m \u001b[39mif\u001b[39;00m \u001b[39mself\u001b[39m\u001b[39m.\u001b[39mfit_intercept:\n\u001b[0;32m     <a href='vscode-notebook-cell:/g%3A/%23Work/Asisiten%20Praktikum/Komstat%202%202023/Statistical-Computation-2-Course-Material/Week%206/Machine%20Learning%20-%20Reggression.ipynb#X33sZmlsZQ%3D%3D?line=32'>33</a>\u001b[0m     X \u001b[39m=\u001b[39m np\u001b[39m.\u001b[39mc_[np\u001b[39m.\u001b[39mones(X\u001b[39m.\u001b[39mshape[\u001b[39m0\u001b[39m]), X]\n\u001b[1;32m---> <a href='vscode-notebook-cell:/g%3A/%23Work/Asisiten%20Praktikum/Komstat%202%202023/Statistical-Computation-2-Course-Material/Week%206/Machine%20Learning%20-%20Reggression.ipynb#X33sZmlsZQ%3D%3D?line=33'>34</a>\u001b[0m \u001b[39mreturn\u001b[39;00m X \u001b[39m@\u001b[39;49m \u001b[39mself\u001b[39;49m\u001b[39m.\u001b[39;49mcoef_\n",
      "\u001b[1;31mValueError\u001b[0m: matmul: Input operand 1 has a mismatch in its core dimension 0, with gufunc signature (n?,k),(k,m?)->(n?,m?) (size 10 is different from 11)"
     ]
    }
   ],
   "source": [
    "reg = LinearRegression(fit_intercept=True, method='normal')\n",
    "reg.fit(X_train, y_train)\n",
    "\n",
    "# Use the fitted model to make predictions on the test data\n",
    "y_pred = reg.predict(X_test)\n",
    "\n",
    "\n",
    "# Calculate the mean squared error and R^2 score\n",
    "mse = mean_squared_error(y_test, y_pred)\n",
    "r2 = r2_score(y_test, y_pred)\n",
    "\n",
    "print(\"Mean Squared Error:\", mse)\n",
    "print(\"R^2 Score:\", r2)"
   ]
  },
  {
   "cell_type": "markdown",
   "metadata": {},
   "source": [
    "## *Package*"
   ]
  },
  {
   "cell_type": "code",
   "execution_count": null,
   "metadata": {},
   "outputs": [],
   "source": [
    "from sklearn.linear_model import LinearRegression\n",
    "\n",
    "regr = LinearRegression()\n",
    " \n",
    "regr.fit(X_train, y_train)\n",
    "print(regr.score(X_test, y_test)\n"
   ]
  },
  {
   "cell_type": "markdown",
   "metadata": {},
   "source": [
    "# **Multiple Linear Regression**"
   ]
  },
  {
   "cell_type": "markdown",
   "metadata": {},
   "source": [
    "# **Polynomial Regression**"
   ]
  },
  {
   "cell_type": "markdown",
   "metadata": {},
   "source": [
    "# **Ridge Regression**"
   ]
  }
 ],
 "metadata": {
  "kernelspec": {
   "display_name": "Python 3.9.9 64-bit",
   "language": "python",
   "name": "python3"
  },
  "language_info": {
   "codemirror_mode": {
    "name": "ipython",
    "version": 3
   },
   "file_extension": ".py",
   "mimetype": "text/x-python",
   "name": "python",
   "nbconvert_exporter": "python",
   "pygments_lexer": "ipython3",
   "version": "3.9.9"
  },
  "orig_nbformat": 4,
  "vscode": {
   "interpreter": {
    "hash": "a820877bb240290804912ab4e6c808c89634e69de391124838cf281dba6966bd"
   }
  }
 },
 "nbformat": 4,
 "nbformat_minor": 2
}
