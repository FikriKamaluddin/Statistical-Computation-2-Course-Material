{
 "cells": [
  {
   "cell_type": "markdown",
   "metadata": {},
   "source": [
    "Regression is a statistical method used to establish a relationship between one or more independent variables (also known as predictors, features, or inputs) and a dependent variable (also known as the outcome, target, or response). The main goal of regression analysis is to predict the value of the dependent variable based on the values of the independent variables.\n",
    "\n",
    "Regression models can be used for various purposes, such as forecasting future trends, understanding the relationships between variables, and making predictions. Regression analysis is widely used in various fields such as economics, finance, psychology, engineering, and social sciences.\n",
    "\n",
    "There are several types of regression models, including:\n",
    "\n",
    " - Simple linear regression: \n",
    "    This is the simplest form of regression, where one independent variable is used to predict a dependent variable. It assumes that there is a linear relationship between the two variables.\n",
    "\n",
    "- Multiple linear regression:\n",
    "    This type of regression involves two or more independent variables to predict a dependent variable. It is useful when there are multiple factors that can affect the outcome.\n",
    "\n",
    "- Polynomial regression:\n",
    "    This type of regression involves fitting a polynomial equation to the data. It is useful when the relationship between the variables is not linear.\n",
    "\n",
    "- Logistic regression:\n",
    "    This type of regression is used when the dependent variable is categorical. It is used to predict the probability of an event occurring.\n",
    "\n",
    "- Ridge regression:\n",
    "    This is a type of regression that is used when there is multicollinearity in the data. It adds a penalty term to the regression equation to reduce the impact of correlated variables.\n",
    "\n",
    "Regression analysis involves several steps, including data collection, data cleaning, variable selection, model building, model validation, and interpretation of results. The accuracy of the regression model can be measured using various metrics such as R-squared, Mean squared error (MSE), Root Mean Squared Error (RMSE), and Mean Absolute Error (MAE).\n",
    "\n",
    "In summary, regression is a statistical method used to establish a relationship between independent variables and a dependent variable to make predictions and understand the relationships between variables."
   ]
  },
  {
   "cell_type": "markdown",
   "metadata": {},
   "source": [
    "# **Linear Regression**"
   ]
  },
  {
   "cell_type": "markdown",
   "metadata": {},
   "source": [
    "## *Scratch*"
   ]
  },
  {
   "cell_type": "code",
   "execution_count": 2,
   "metadata": {},
   "outputs": [],
   "source": [
    "import numpy as np\n",
    "import pandas as pd\n",
    "from sklearn.model_selection import train_test_split\n",
    "import matplotlib.pyplot as plt"
   ]
  },
  {
   "cell_type": "code",
   "execution_count": null,
   "metadata": {},
   "outputs": [],
   "source": [
    "class LinearRegression() :\n",
    "      \n",
    "    def __init__( self, learning_rate, iterations ) :\n",
    "        self.learning_rate = learning_rate\n",
    "        self.iterations = iterations\n",
    "          \n",
    "    # Function for model training\n",
    "              \n",
    "    def fit( self, X, Y ) :\n",
    "        # no_of_training_examples, no_of_features\n",
    "        self.m, self.n = X.shape\n",
    "        # weight initialization\n",
    "        self.W = np.zeros( self.n )\n",
    "        self.b = 0\n",
    "        self.X = X\n",
    "        self.Y = Y\n",
    "          \n",
    "          \n",
    "        # gradient descent learning\n",
    "                  \n",
    "        for i in range( self.iterations ) :\n",
    "              \n",
    "            self.update_weights()\n",
    "              \n",
    "        return self\n",
    "      \n",
    "    # Helper function to update weights in gradient descent\n",
    "      \n",
    "    def update_weights( self ) :\n",
    "             \n",
    "        Y_pred = self.predict( self.X )\n",
    "          \n",
    "        # calculate gradients  \n",
    "      \n",
    "        dW = - ( 2 * ( self.X.T ).dot( self.Y - Y_pred )  ) / self.m\n",
    "       \n",
    "        db = - 2 * np.sum( self.Y - Y_pred ) / self.m \n",
    "          \n",
    "        # update weights\n",
    "      \n",
    "        self.W = self.W - self.learning_rate * dW\n",
    "      \n",
    "        self.b = self.b - self.learning_rate * db\n",
    "          \n",
    "        return self\n",
    "      \n",
    "    # Hypothetical function  h( x ) \n",
    "      \n",
    "    def predict( self, X ) :\n",
    "      \n",
    "        return X.dot( self.W ) + self.b\n",
    "     \n",
    "  \n",
    "# driver code\n",
    "  \n",
    "def main() :\n",
    "      \n",
    "    # Importing dataset\n",
    "      \n",
    "    df = pd.read_csv( \"salary_data.csv\" )\n",
    "  \n",
    "    X = df.iloc[:,:-1].values\n",
    "  \n",
    "    Y = df.iloc[:,1].values\n",
    "      \n",
    "    # Splitting dataset into train and test set\n",
    "  \n",
    "    X_train, X_test, Y_train, Y_test = train_test_split( \n",
    "      X, Y, test_size = 1/3, random_state = 0 )\n",
    "      \n",
    "    # Model training\n",
    "      \n",
    "    model = LinearRegression( iterations = 1000, learning_rate = 0.01 )\n",
    "  \n",
    "    model.fit( X_train, Y_train )\n",
    "      \n",
    "    # Prediction on test set\n",
    "  \n",
    "    Y_pred = model.predict( X_test )\n",
    "      \n",
    "    print( \"Predicted values \", np.round( Y_pred[:3], 2 ) ) \n",
    "      \n",
    "    print( \"Real values      \", Y_test[:3] )\n",
    "      \n",
    "    print( \"Trained W        \", round( model.W[0], 2 ) )\n",
    "      \n",
    "    print( \"Trained b        \", round( model.b, 2 ) )\n",
    "      \n",
    "    # Visualization on test set \n",
    "      \n",
    "    plt.scatter( X_test, Y_test, color = 'blue' )\n",
    "      \n",
    "    plt.plot( X_test, Y_pred, color = 'orange' )\n",
    "      \n",
    "    plt.title( 'Salary vs Experience' )\n",
    "      \n",
    "    plt.xlabel( 'Years of Experience' )\n",
    "      \n",
    "    plt.ylabel( 'Salary' )\n",
    "      \n",
    "    plt.show()"
   ]
  },
  {
   "cell_type": "markdown",
   "metadata": {},
   "source": [
    "## *Package*"
   ]
  },
  {
   "cell_type": "code",
   "execution_count": null,
   "metadata": {},
   "outputs": [],
   "source": [
    "from sklearn.linear_model import LinearRegression\n",
    "\n",
    "regr = LinearRegression()\n",
    " \n",
    "regr.fit(X_train, y_train)\n",
    "print(regr.score(X_test, y_test)\n"
   ]
  },
  {
   "cell_type": "markdown",
   "metadata": {},
   "source": [
    "# **Multiple Linear Regression**"
   ]
  },
  {
   "cell_type": "markdown",
   "metadata": {},
   "source": [
    "# **Polynomial Regression**"
   ]
  },
  {
   "cell_type": "markdown",
   "metadata": {},
   "source": [
    "# **Ridge Regression**"
   ]
  }
 ],
 "metadata": {
  "kernelspec": {
   "display_name": "Python 3.9.9 64-bit",
   "language": "python",
   "name": "python3"
  },
  "language_info": {
   "codemirror_mode": {
    "name": "ipython",
    "version": 3
   },
   "file_extension": ".py",
   "mimetype": "text/x-python",
   "name": "python",
   "nbconvert_exporter": "python",
   "pygments_lexer": "ipython3",
   "version": "3.9.9"
  },
  "orig_nbformat": 4,
  "vscode": {
   "interpreter": {
    "hash": "a820877bb240290804912ab4e6c808c89634e69de391124838cf281dba6966bd"
   }
  }
 },
 "nbformat": 4,
 "nbformat_minor": 2
}
